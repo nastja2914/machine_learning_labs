{
 "metadata": {
  "language_info": {
   "codemirror_mode": {
    "name": "ipython",
    "version": 3
   },
   "file_extension": ".py",
   "mimetype": "text/x-python",
   "name": "python",
   "nbconvert_exporter": "python",
   "pygments_lexer": "ipython3",
   "version": "3.8.6-final"
  },
  "orig_nbformat": 2,
  "kernelspec": {
   "name": "python3",
   "display_name": "Python 3"
  }
 },
 "nbformat": 4,
 "nbformat_minor": 2,
 "cells": [
  {
   "source": [
    "## Лабораторная работа №15. Решение задач понижения размерности. Метод главных компонент.\n",
    "\n",
    "Используемый набор данных: [Dow Jones Index Data Set](https://archive.ics.uci.edu/ml/datasets/Dow+Jones+Index)"
   ],
   "cell_type": "markdown",
   "metadata": {}
  },
  {
   "cell_type": "code",
   "execution_count": 1,
   "metadata": {},
   "outputs": [],
   "source": [
    "import numpy as np\n",
    "import pandas as pd\n",
    "import matplotlib.pyplot as plt\n",
    "from sklearn.decomposition import PCA\n",
    "import os\n",
    "import requests\n",
    "from zipfile import ZipFile\n",
    "\n",
    "%matplotlib inline\n",
    "pd.options.display.max_columns = None"
   ]
  },
  {
   "cell_type": "code",
   "execution_count": 2,
   "metadata": {},
   "outputs": [],
   "source": [
    "def downloadFile(url, filePath):\n",
    "    if not os.path.exists(filePath):\n",
    "        req = requests.get(url)\n",
    "        f = open(filePath, \"wb\")\n",
    "        f.write(req.content)\n",
    "        f.close\n",
    "\n",
    "url = \"https://archive.ics.uci.edu/ml/machine-learning-databases/00312/\"\n",
    "downloadFile(url + \"/dow_jones_index.zip\", \"dataset/dow_jones_index.zip\")\n",
    "\n",
    "with ZipFile(\"dataset/dow_jones_index.zip\", \"r\") as arch:\n",
    "    arch.extractall(\"dataset\")"
   ]
  },
  {
   "cell_type": "code",
   "execution_count": 3,
   "metadata": {},
   "outputs": [
    {
     "output_type": "display_data",
     "data": {
      "text/plain": "stock                                 category\nopen                                    object\nhigh                                    object\nlow                                     object\nclose                                   object\nvolume                                   int64\npercent_change_price                   float64\npercent_change_volume_over_last_wk     float64\nprevious_weeks_volume                  float64\nnext_weeks_open                         object\nnext_weeks_close                        object\npercent_change_next_weeks_price        float64\ndays_to_next_dividend                    int64\npercent_return_next_dividend           float64\ndtype: object"
     },
     "metadata": {}
    },
    {
     "output_type": "display_data",
     "data": {
      "text/plain": "stock                                  0\nopen                                   0\nhigh                                   0\nlow                                    0\nclose                                  0\nvolume                                 0\npercent_change_price                   0\npercent_change_volume_over_last_wk    30\nprevious_weeks_volume                 30\nnext_weeks_open                        0\nnext_weeks_close                       0\npercent_change_next_weeks_price        0\ndays_to_next_dividend                  0\npercent_return_next_dividend           0\ndtype: int64"
     },
     "metadata": {}
    }
   ],
   "source": [
    "headers = [\"quarter\", \"stock\", \"date\", \"open\", \"high\", \"low\", \"close\", \"volume\",\n",
    "    \"percent_change_price\", \"percent_change_volume_over_last_wk\", \"previous_weeks_volume\",\n",
    "    \"next_weeks_open\", \"next_weeks_close\", \"percent_change_next_weeks_price\",\n",
    "    \"days_to_next_dividend\", \"percent_return_next_dividend\"]\n",
    "data = pd.read_csv(\"dataset/dow_jones_index.data\", names=headers, header=None, skiprows=[0])\n",
    "\n",
    "data = data.astype({\"stock\": \"category\"})\n",
    "data.drop(columns=[\"date\", \"quarter\"], inplace=True)\n",
    "\n",
    "display(data.dtypes)\n",
    "display(data.isna().sum())"
   ]
  },
  {
   "source": [
    "Преобразуем данные."
   ],
   "cell_type": "markdown",
   "metadata": {}
  },
  {
   "cell_type": "code",
   "execution_count": 4,
   "metadata": {},
   "outputs": [
    {
     "output_type": "display_data",
     "data": {
      "text/plain": "stock                                 0\nopen                                  0\nhigh                                  0\nlow                                   0\nclose                                 0\nvolume                                0\npercent_change_price                  0\npercent_change_volume_over_last_wk    0\nprevious_weeks_volume                 0\nnext_weeks_open                       0\nnext_weeks_close                      0\npercent_change_next_weeks_price       0\ndays_to_next_dividend                 0\npercent_return_next_dividend          0\ndtype: int64"
     },
     "metadata": {}
    },
    {
     "output_type": "display_data",
     "data": {
      "text/plain": "stock                                 category\nopen                                   float64\nhigh                                   float64\nlow                                    float64\nclose                                  float64\nvolume                                   int64\npercent_change_price                   float64\npercent_change_volume_over_last_wk     float64\nprevious_weeks_volume                  float64\nnext_weeks_open                        float64\nnext_weeks_close                       float64\npercent_change_next_weeks_price        float64\ndays_to_next_dividend                    int64\npercent_return_next_dividend           float64\ndtype: object"
     },
     "metadata": {}
    }
   ],
   "source": [
    "for col in [\"open\", \"high\", \"low\", \"close\", \"next_weeks_open\", \"next_weeks_close\"]:\n",
    "    data[col] = data[col].str.replace(\"$\", \"\")\n",
    "    data[col] = data[col].astype(float)\n",
    "for col in [\"percent_change_volume_over_last_wk\", \"previous_weeks_volume\"]:\n",
    "    data[col].fillna(data[col].mode()[0], inplace=True)\n",
    "\n",
    "display(data.isna().sum())\n",
    "display(data.dtypes)"
   ]
  },
  {
   "cell_type": "code",
   "execution_count": 5,
   "metadata": {},
   "outputs": [],
   "source": [
    "n_components=3\n",
    "X = data.drop(columns=[\"stock\"]).copy()\n",
    "\n",
    "pca = PCA(n_components)\n",
    "pca_data = pca.fit_transform(X)\n"
   ]
  },
  {
   "source": [
    "Определим, скольких  компонент хватит, чтобы объяснить 90% дисперсии."
   ],
   "cell_type": "markdown",
   "metadata": {}
  },
  {
   "cell_type": "code",
   "execution_count": 6,
   "metadata": {},
   "outputs": [
    {
     "output_type": "display_data",
     "data": {
      "text/plain": "'Component 1, variance_ratio: 0.9095995167792645'"
     },
     "metadata": {}
    }
   ],
   "source": [
    "for i in range(n_components):\n",
    "    variance_ratio = pca.explained_variance_ratio_[i]\n",
    "    if variance_ratio >= 0.9:\n",
    "        display(\"Component {}, variance_ratio: {}\".format(i + 1, variance_ratio))"
   ]
  },
  {
   "source": [
    "Определим корреляцию Пирсона между первой компонентой и инжексом Доу-Джонса."
   ],
   "cell_type": "markdown",
   "metadata": {}
  },
  {
   "cell_type": "code",
   "execution_count": 7,
   "metadata": {},
   "outputs": [
    {
     "output_type": "execute_result",
     "data": {
      "text/plain": [
       "       open      high       low     close\n",
       "0 -0.529777 -0.529008 -0.530383 -0.530174"
      ],
      "text/html": "<div>\n<style scoped>\n    .dataframe tbody tr th:only-of-type {\n        vertical-align: middle;\n    }\n\n    .dataframe tbody tr th {\n        vertical-align: top;\n    }\n\n    .dataframe thead th {\n        text-align: right;\n    }\n</style>\n<table border=\"1\" class=\"dataframe\">\n  <thead>\n    <tr style=\"text-align: right;\">\n      <th></th>\n      <th>open</th>\n      <th>high</th>\n      <th>low</th>\n      <th>close</th>\n    </tr>\n  </thead>\n  <tbody>\n    <tr>\n      <th>0</th>\n      <td>-0.529777</td>\n      <td>-0.529008</td>\n      <td>-0.530383</td>\n      <td>-0.530174</td>\n    </tr>\n  </tbody>\n</table>\n</div>"
     },
     "metadata": {},
     "execution_count": 7
    }
   ],
   "source": [
    "cols = [\"open\", \"high\", \"low\", \"close\"]\n",
    "pearsonData = [[np.corrcoef(pca_data[:, 0], data[col])[0, 1] for col in cols]]\n",
    "pd.DataFrame(data=pearsonData, columns=cols)"
   ]
  }
 ]
}