{
 "metadata": {
  "language_info": {
   "codemirror_mode": {
    "name": "ipython",
    "version": 3
   },
   "file_extension": ".py",
   "mimetype": "text/x-python",
   "name": "python",
   "nbconvert_exporter": "python",
   "pygments_lexer": "ipython3",
   "version": "3.8.6-final"
  },
  "orig_nbformat": 2,
  "kernelspec": {
   "name": "python3",
   "display_name": "Python 3"
  }
 },
 "nbformat": 4,
 "nbformat_minor": 2,
 "cells": [
  {
   "source": [
    "## Лабораторная работа №17. Разработка модели машинного обучения для выбранной предметной области.\n",
    "\n",
    "Используемый набор данных: [Car Evaluation](https://archive.ics.uci.edu/ml/datasets/Car+Evaluation)"
   ],
   "cell_type": "markdown",
   "metadata": {}
  },
  {
   "cell_type": "code",
   "execution_count": 1,
   "metadata": {},
   "outputs": [],
   "source": [
    "import numpy as np\n",
    "import pandas as pd\n",
    "import matplotlib.pyplot as plt\n",
    "import seaborn as sns\n",
    "from sklearn.preprocessing import LabelEncoder\n",
    "from sklearn.neural_network import MLPClassifier\n",
    "from sklearn.model_selection import train_test_split, cross_val_score, GridSearchCV\n",
    "from sklearn.metrics import mean_squared_error, mean_absolute_error, confusion_matrix\n",
    "import os\n",
    "import requests\n",
    "\n",
    "%matplotlib inline\n",
    "pd.options.display.max_columns = None"
   ]
  },
  {
   "source": [
    "Загрузим и подготовим данные."
   ],
   "cell_type": "markdown",
   "metadata": {}
  },
  {
   "cell_type": "code",
   "execution_count": 2,
   "metadata": {},
   "outputs": [],
   "source": [
    "def downloadFile(url, filePath):\n",
    "    if not os.path.exists(filePath):\n",
    "        req = requests.get(url)\n",
    "        f = open(filePath, \"wb\")\n",
    "        f.write(req.content)\n",
    "        f.close\n",
    "\n",
    "url = \"https://archive.ics.uci.edu/ml/machine-learning-databases/car\"\n",
    "downloadFile(url + \"/car.data\", \"dataset/car.data\")\n",
    "downloadFile(url + \"/car.names\", \"dataset/car.names\")"
   ]
  },
  {
   "source": [
    "В данном наборе все признаки являются категориальными."
   ],
   "cell_type": "markdown",
   "metadata": {}
  },
  {
   "cell_type": "code",
   "execution_count": 3,
   "metadata": {},
   "outputs": [
    {
     "output_type": "display_data",
     "data": {
      "text/plain": "buying      category\nmaint       category\ndoors       category\npersons     category\nlug_boot    category\nsafety      category\nclass       category\ndtype: object"
     },
     "metadata": {}
    },
    {
     "output_type": "display_data",
     "data": {
      "text/plain": "buying      0\nmaint       0\ndoors       0\npersons     0\nlug_boot    0\nsafety      0\nclass       0\ndtype: int64"
     },
     "metadata": {}
    }
   ],
   "source": [
    "headers = [\"buying\", \"maint\", \"doors\", \"persons\", \"lug_boot\", \"safety\", \"class\"]\n",
    "data = pd.read_csv(\"dataset/car.data\", names=headers)\n",
    "data = data.astype({\"buying\": \"category\", \"maint\": \"category\", \"doors\": \"category\", \"persons\": \"category\", \"lug_boot\": \"category\", \"safety\": \"category\", \"class\": \"category\"})\n",
    "\n",
    "display(data.dtypes)\n",
    "display(data.isna().sum())"
   ]
  },
  {
   "source": [
    "Пропуски в данных отсутствуют."
   ],
   "cell_type": "markdown",
   "metadata": {}
  },
  {
   "cell_type": "code",
   "execution_count": 4,
   "metadata": {},
   "outputs": [
    {
     "output_type": "execute_result",
     "data": {
      "text/plain": [
       "       buying  maint  doors persons lug_boot safety  class\n",
       "count    1728   1728   1728    1728     1728   1728   1728\n",
       "unique      4      4      4       3        3      3      4\n",
       "top     vhigh  vhigh  5more    more    small    med  unacc\n",
       "freq      432    432    432     576      576    576   1210"
      ],
      "text/html": "<div>\n<style scoped>\n    .dataframe tbody tr th:only-of-type {\n        vertical-align: middle;\n    }\n\n    .dataframe tbody tr th {\n        vertical-align: top;\n    }\n\n    .dataframe thead th {\n        text-align: right;\n    }\n</style>\n<table border=\"1\" class=\"dataframe\">\n  <thead>\n    <tr style=\"text-align: right;\">\n      <th></th>\n      <th>buying</th>\n      <th>maint</th>\n      <th>doors</th>\n      <th>persons</th>\n      <th>lug_boot</th>\n      <th>safety</th>\n      <th>class</th>\n    </tr>\n  </thead>\n  <tbody>\n    <tr>\n      <th>count</th>\n      <td>1728</td>\n      <td>1728</td>\n      <td>1728</td>\n      <td>1728</td>\n      <td>1728</td>\n      <td>1728</td>\n      <td>1728</td>\n    </tr>\n    <tr>\n      <th>unique</th>\n      <td>4</td>\n      <td>4</td>\n      <td>4</td>\n      <td>3</td>\n      <td>3</td>\n      <td>3</td>\n      <td>4</td>\n    </tr>\n    <tr>\n      <th>top</th>\n      <td>vhigh</td>\n      <td>vhigh</td>\n      <td>5more</td>\n      <td>more</td>\n      <td>small</td>\n      <td>med</td>\n      <td>unacc</td>\n    </tr>\n    <tr>\n      <th>freq</th>\n      <td>432</td>\n      <td>432</td>\n      <td>432</td>\n      <td>576</td>\n      <td>576</td>\n      <td>576</td>\n      <td>1210</td>\n    </tr>\n  </tbody>\n</table>\n</div>"
     },
     "metadata": {},
     "execution_count": 4
    }
   ],
   "source": [
    "data.describe()"
   ]
  },
  {
   "cell_type": "code",
   "execution_count": 5,
   "metadata": {},
   "outputs": [
    {
     "output_type": "execute_result",
     "data": {
      "text/plain": [
       "     buying  maint  doors persons lug_boot safety  class\n",
       "1665    low    low      3    more    small    low  unacc\n",
       "1280    med    low  5more       4    small   high   good\n",
       "1338    low  vhigh      3       4      big    low  unacc\n",
       "1506    low   high  5more    more      med    low  unacc\n",
       "1077    med   high  5more    more      big    low  unacc\n",
       "1587    low    med      4    more      med    low  unacc\n",
       "13    vhigh  vhigh      2       4      med    med  unacc\n",
       "471    high  vhigh      3       4      med    low  unacc\n",
       "914     med  vhigh      3    more      med   high    acc\n",
       "357   vhigh    low      3       2      big    low  unacc\n",
       "1241    med    low      3    more      big   high  vgood\n",
       "275   vhigh    med      4       2      med   high  unacc\n",
       "1651    low    low      3       2      med    med  unacc\n",
       "1612    low    med  5more    more    small    med    acc\n",
       "187   vhigh   high      4    more      big    med  unacc\n",
       "770    high    low      2       4      med   high    acc\n",
       "717    high    med      4       4      big    low  unacc\n",
       "66    vhigh  vhigh      4       4      med    low  unacc\n",
       "1453    low   high      3    more      med    med    acc\n",
       "533    high  vhigh  5more    more    small   high  unacc"
      ],
      "text/html": "<div>\n<style scoped>\n    .dataframe tbody tr th:only-of-type {\n        vertical-align: middle;\n    }\n\n    .dataframe tbody tr th {\n        vertical-align: top;\n    }\n\n    .dataframe thead th {\n        text-align: right;\n    }\n</style>\n<table border=\"1\" class=\"dataframe\">\n  <thead>\n    <tr style=\"text-align: right;\">\n      <th></th>\n      <th>buying</th>\n      <th>maint</th>\n      <th>doors</th>\n      <th>persons</th>\n      <th>lug_boot</th>\n      <th>safety</th>\n      <th>class</th>\n    </tr>\n  </thead>\n  <tbody>\n    <tr>\n      <th>1665</th>\n      <td>low</td>\n      <td>low</td>\n      <td>3</td>\n      <td>more</td>\n      <td>small</td>\n      <td>low</td>\n      <td>unacc</td>\n    </tr>\n    <tr>\n      <th>1280</th>\n      <td>med</td>\n      <td>low</td>\n      <td>5more</td>\n      <td>4</td>\n      <td>small</td>\n      <td>high</td>\n      <td>good</td>\n    </tr>\n    <tr>\n      <th>1338</th>\n      <td>low</td>\n      <td>vhigh</td>\n      <td>3</td>\n      <td>4</td>\n      <td>big</td>\n      <td>low</td>\n      <td>unacc</td>\n    </tr>\n    <tr>\n      <th>1506</th>\n      <td>low</td>\n      <td>high</td>\n      <td>5more</td>\n      <td>more</td>\n      <td>med</td>\n      <td>low</td>\n      <td>unacc</td>\n    </tr>\n    <tr>\n      <th>1077</th>\n      <td>med</td>\n      <td>high</td>\n      <td>5more</td>\n      <td>more</td>\n      <td>big</td>\n      <td>low</td>\n      <td>unacc</td>\n    </tr>\n    <tr>\n      <th>1587</th>\n      <td>low</td>\n      <td>med</td>\n      <td>4</td>\n      <td>more</td>\n      <td>med</td>\n      <td>low</td>\n      <td>unacc</td>\n    </tr>\n    <tr>\n      <th>13</th>\n      <td>vhigh</td>\n      <td>vhigh</td>\n      <td>2</td>\n      <td>4</td>\n      <td>med</td>\n      <td>med</td>\n      <td>unacc</td>\n    </tr>\n    <tr>\n      <th>471</th>\n      <td>high</td>\n      <td>vhigh</td>\n      <td>3</td>\n      <td>4</td>\n      <td>med</td>\n      <td>low</td>\n      <td>unacc</td>\n    </tr>\n    <tr>\n      <th>914</th>\n      <td>med</td>\n      <td>vhigh</td>\n      <td>3</td>\n      <td>more</td>\n      <td>med</td>\n      <td>high</td>\n      <td>acc</td>\n    </tr>\n    <tr>\n      <th>357</th>\n      <td>vhigh</td>\n      <td>low</td>\n      <td>3</td>\n      <td>2</td>\n      <td>big</td>\n      <td>low</td>\n      <td>unacc</td>\n    </tr>\n    <tr>\n      <th>1241</th>\n      <td>med</td>\n      <td>low</td>\n      <td>3</td>\n      <td>more</td>\n      <td>big</td>\n      <td>high</td>\n      <td>vgood</td>\n    </tr>\n    <tr>\n      <th>275</th>\n      <td>vhigh</td>\n      <td>med</td>\n      <td>4</td>\n      <td>2</td>\n      <td>med</td>\n      <td>high</td>\n      <td>unacc</td>\n    </tr>\n    <tr>\n      <th>1651</th>\n      <td>low</td>\n      <td>low</td>\n      <td>3</td>\n      <td>2</td>\n      <td>med</td>\n      <td>med</td>\n      <td>unacc</td>\n    </tr>\n    <tr>\n      <th>1612</th>\n      <td>low</td>\n      <td>med</td>\n      <td>5more</td>\n      <td>more</td>\n      <td>small</td>\n      <td>med</td>\n      <td>acc</td>\n    </tr>\n    <tr>\n      <th>187</th>\n      <td>vhigh</td>\n      <td>high</td>\n      <td>4</td>\n      <td>more</td>\n      <td>big</td>\n      <td>med</td>\n      <td>unacc</td>\n    </tr>\n    <tr>\n      <th>770</th>\n      <td>high</td>\n      <td>low</td>\n      <td>2</td>\n      <td>4</td>\n      <td>med</td>\n      <td>high</td>\n      <td>acc</td>\n    </tr>\n    <tr>\n      <th>717</th>\n      <td>high</td>\n      <td>med</td>\n      <td>4</td>\n      <td>4</td>\n      <td>big</td>\n      <td>low</td>\n      <td>unacc</td>\n    </tr>\n    <tr>\n      <th>66</th>\n      <td>vhigh</td>\n      <td>vhigh</td>\n      <td>4</td>\n      <td>4</td>\n      <td>med</td>\n      <td>low</td>\n      <td>unacc</td>\n    </tr>\n    <tr>\n      <th>1453</th>\n      <td>low</td>\n      <td>high</td>\n      <td>3</td>\n      <td>more</td>\n      <td>med</td>\n      <td>med</td>\n      <td>acc</td>\n    </tr>\n    <tr>\n      <th>533</th>\n      <td>high</td>\n      <td>vhigh</td>\n      <td>5more</td>\n      <td>more</td>\n      <td>small</td>\n      <td>high</td>\n      <td>unacc</td>\n    </tr>\n  </tbody>\n</table>\n</div>"
     },
     "metadata": {},
     "execution_count": 5
    }
   ],
   "source": [
    "data.sample(20)"
   ]
  },
  {
   "cell_type": "code",
   "execution_count": 6,
   "metadata": {},
   "outputs": [
    {
     "output_type": "execute_result",
     "data": {
      "text/plain": [
       "False"
      ]
     },
     "metadata": {},
     "execution_count": 6
    }
   ],
   "source": [
    "data.duplicated().any()"
   ]
  },
  {
   "source": [
    "Дублирующиеся данные отсутствуют."
   ],
   "cell_type": "markdown",
   "metadata": {}
  },
  {
   "source": [
    "Преобразуем категориальные признаки в числовые для использования в классификаторе."
   ],
   "cell_type": "markdown",
   "metadata": {}
  },
  {
   "cell_type": "code",
   "execution_count": 7,
   "metadata": {},
   "outputs": [
    {
     "output_type": "execute_result",
     "data": {
      "text/plain": [
       "      buying  maint  doors  persons  lug_boot  safety  class\n",
       "165        3      0      2        0         1       1      2\n",
       "1394       1      3      3        1         0       0      0\n",
       "1019       2      0      1        2         2       0      0\n",
       "1036       2      0      2        1         2       2      2\n",
       "477        0      3      1        2         2       1      2\n",
       "97         3      3      3        1         0       2      2\n",
       "1060       2      0      3        0         0       2      2\n",
       "1601       1      2      3        0         0       0      2\n",
       "21         3      3      0        2         1       1      2\n",
       "748        0      2      3        2         2       2      2"
      ],
      "text/html": "<div>\n<style scoped>\n    .dataframe tbody tr th:only-of-type {\n        vertical-align: middle;\n    }\n\n    .dataframe tbody tr th {\n        vertical-align: top;\n    }\n\n    .dataframe thead th {\n        text-align: right;\n    }\n</style>\n<table border=\"1\" class=\"dataframe\">\n  <thead>\n    <tr style=\"text-align: right;\">\n      <th></th>\n      <th>buying</th>\n      <th>maint</th>\n      <th>doors</th>\n      <th>persons</th>\n      <th>lug_boot</th>\n      <th>safety</th>\n      <th>class</th>\n    </tr>\n  </thead>\n  <tbody>\n    <tr>\n      <th>165</th>\n      <td>3</td>\n      <td>0</td>\n      <td>2</td>\n      <td>0</td>\n      <td>1</td>\n      <td>1</td>\n      <td>2</td>\n    </tr>\n    <tr>\n      <th>1394</th>\n      <td>1</td>\n      <td>3</td>\n      <td>3</td>\n      <td>1</td>\n      <td>0</td>\n      <td>0</td>\n      <td>0</td>\n    </tr>\n    <tr>\n      <th>1019</th>\n      <td>2</td>\n      <td>0</td>\n      <td>1</td>\n      <td>2</td>\n      <td>2</td>\n      <td>0</td>\n      <td>0</td>\n    </tr>\n    <tr>\n      <th>1036</th>\n      <td>2</td>\n      <td>0</td>\n      <td>2</td>\n      <td>1</td>\n      <td>2</td>\n      <td>2</td>\n      <td>2</td>\n    </tr>\n    <tr>\n      <th>477</th>\n      <td>0</td>\n      <td>3</td>\n      <td>1</td>\n      <td>2</td>\n      <td>2</td>\n      <td>1</td>\n      <td>2</td>\n    </tr>\n    <tr>\n      <th>97</th>\n      <td>3</td>\n      <td>3</td>\n      <td>3</td>\n      <td>1</td>\n      <td>0</td>\n      <td>2</td>\n      <td>2</td>\n    </tr>\n    <tr>\n      <th>1060</th>\n      <td>2</td>\n      <td>0</td>\n      <td>3</td>\n      <td>0</td>\n      <td>0</td>\n      <td>2</td>\n      <td>2</td>\n    </tr>\n    <tr>\n      <th>1601</th>\n      <td>1</td>\n      <td>2</td>\n      <td>3</td>\n      <td>0</td>\n      <td>0</td>\n      <td>0</td>\n      <td>2</td>\n    </tr>\n    <tr>\n      <th>21</th>\n      <td>3</td>\n      <td>3</td>\n      <td>0</td>\n      <td>2</td>\n      <td>1</td>\n      <td>1</td>\n      <td>2</td>\n    </tr>\n    <tr>\n      <th>748</th>\n      <td>0</td>\n      <td>2</td>\n      <td>3</td>\n      <td>2</td>\n      <td>2</td>\n      <td>2</td>\n      <td>2</td>\n    </tr>\n  </tbody>\n</table>\n</div>"
     },
     "metadata": {},
     "execution_count": 7
    }
   ],
   "source": [
    "le = LabelEncoder()\n",
    "for col in data.columns:\n",
    "    data[col] = le.fit_transform(data[col])\n",
    "\n",
    "data.sample(10)\n"
   ]
  },
  {
   "source": [
    "Подготовим тестовый набор данных и набор для обучения."
   ],
   "cell_type": "markdown",
   "metadata": {}
  },
  {
   "cell_type": "code",
   "execution_count": 8,
   "metadata": {},
   "outputs": [],
   "source": [
    "X = data.drop(columns=[\"class\"]).copy()\n",
    "y = data[\"class\"].copy()\n",
    "\n",
    "X_train, X_test, y_train, y_test = train_test_split(X, y, test_size=0.33, random_state=32)"
   ]
  },
  {
   "source": [
    "Решим задачу классификации с использование нейросети вида \"[Многослойный перцептрон](https://en.wikipedia.org/wiki/Multilayer_perceptron)\". Обучим классификатор и выполним предсказание."
   ],
   "cell_type": "markdown",
   "metadata": {}
  },
  {
   "cell_type": "code",
   "execution_count": 9,
   "metadata": {},
   "outputs": [],
   "source": [
    "mlp_clf = MLPClassifier(hidden_layer_sizes=(5),max_iter=1000, random_state=32, shuffle=True, verbose=False)\n",
    "\n",
    "mlp_clf.fit(X_train, y_train)\n",
    "y_pred = mlp_clf.predict(X_test)"
   ]
  },
  {
   "source": [
    "Выполним оценку качества классификации."
   ],
   "cell_type": "markdown",
   "metadata": {}
  },
  {
   "source": [
    "y_score = cross_val_score(mlp_clf, X_train, y_train, cv=10)\n",
    "\n",
    "metrics = [\n",
    "    [\"Mean squared error (MSE)\", mean_squared_error(y_test, y_pred)],\n",
    "    [\"Mean absolute error (MAE)\", mean_absolute_error(y_test, y_pred)],\n",
    "    [\"Accuracy\", mlp_clf.score(X_test, y_test)],\n",
    "    [\"Cross validation Accuracy\", y_score.mean()]\n",
    "]\n",
    "pd.DataFrame(data=metrics, columns=[\"Metric\", \"Score\"])"
   ],
   "cell_type": "code",
   "metadata": {},
   "execution_count": 10,
   "outputs": [
    {
     "output_type": "execute_result",
     "data": {
      "text/plain": [
       "                      Metric     Score\n",
       "0   Mean squared error (MSE)  0.719790\n",
       "1  Mean absolute error (MAE)  0.327496\n",
       "2                   Accuracy  0.833625\n",
       "3  Cross validation Accuracy  0.827159"
      ],
      "text/html": "<div>\n<style scoped>\n    .dataframe tbody tr th:only-of-type {\n        vertical-align: middle;\n    }\n\n    .dataframe tbody tr th {\n        vertical-align: top;\n    }\n\n    .dataframe thead th {\n        text-align: right;\n    }\n</style>\n<table border=\"1\" class=\"dataframe\">\n  <thead>\n    <tr style=\"text-align: right;\">\n      <th></th>\n      <th>Metric</th>\n      <th>Score</th>\n    </tr>\n  </thead>\n  <tbody>\n    <tr>\n      <th>0</th>\n      <td>Mean squared error (MSE)</td>\n      <td>0.719790</td>\n    </tr>\n    <tr>\n      <th>1</th>\n      <td>Mean absolute error (MAE)</td>\n      <td>0.327496</td>\n    </tr>\n    <tr>\n      <th>2</th>\n      <td>Accuracy</td>\n      <td>0.833625</td>\n    </tr>\n    <tr>\n      <th>3</th>\n      <td>Cross validation Accuracy</td>\n      <td>0.827159</td>\n    </tr>\n  </tbody>\n</table>\n</div>"
     },
     "metadata": {},
     "execution_count": 10
    }
   ]
  },
  {
   "source": [
    "Подберем оптимальные параметры для нейросети."
   ],
   "cell_type": "markdown",
   "metadata": {}
  },
  {
   "cell_type": "code",
   "execution_count": 11,
   "metadata": {},
   "outputs": [
    {
     "output_type": "execute_result",
     "data": {
      "text/plain": [
       "{'activation': 'logistic',\n",
       " 'alpha': 0.1,\n",
       " 'hidden_layer_sizes': 18,\n",
       " 'solver': 'lbfgs'}"
      ]
     },
     "metadata": {},
     "execution_count": 11
    }
   ],
   "source": [
    "params = {\n",
    "    'activation': ['logistic', 'tanh', 'relu'],\n",
    "    'solver': ['lbfgs', 'adam', 'sgd'],\n",
    "    'alpha': 10.0 ** -np.arange(1, 3),\n",
    "    'hidden_layer_sizes': [(3), (4), (5), (12), (18), (24) ]\n",
    "    }\n",
    "\n",
    "mlp_clf_cv = MLPClassifier(random_state=32)\n",
    "gscv = GridSearchCV(mlp_clf_cv, params, cv=10, n_jobs=10)\n",
    "gscv_pred = gscv.fit(X_train, y_train).predict(X_test)\n",
    "gscv.best_params_"
   ]
  },
  {
   "source": [
    "Выполним оценку качества классификации с оптимальными параметрами."
   ],
   "cell_type": "markdown",
   "metadata": {}
  },
  {
   "cell_type": "code",
   "execution_count": 12,
   "metadata": {},
   "outputs": [
    {
     "output_type": "execute_result",
     "data": {
      "text/plain": [
       "                      Metric     Score\n",
       "0   Mean squared error (MSE)  0.082312\n",
       "1  Mean absolute error (MAE)  0.040280\n",
       "2                   Accuracy  0.978984\n",
       "3  Cross validation Accuracy  0.987046"
      ],
      "text/html": "<div>\n<style scoped>\n    .dataframe tbody tr th:only-of-type {\n        vertical-align: middle;\n    }\n\n    .dataframe tbody tr th {\n        vertical-align: top;\n    }\n\n    .dataframe thead th {\n        text-align: right;\n    }\n</style>\n<table border=\"1\" class=\"dataframe\">\n  <thead>\n    <tr style=\"text-align: right;\">\n      <th></th>\n      <th>Metric</th>\n      <th>Score</th>\n    </tr>\n  </thead>\n  <tbody>\n    <tr>\n      <th>0</th>\n      <td>Mean squared error (MSE)</td>\n      <td>0.082312</td>\n    </tr>\n    <tr>\n      <th>1</th>\n      <td>Mean absolute error (MAE)</td>\n      <td>0.040280</td>\n    </tr>\n    <tr>\n      <th>2</th>\n      <td>Accuracy</td>\n      <td>0.978984</td>\n    </tr>\n    <tr>\n      <th>3</th>\n      <td>Cross validation Accuracy</td>\n      <td>0.987046</td>\n    </tr>\n  </tbody>\n</table>\n</div>"
     },
     "metadata": {},
     "execution_count": 12
    }
   ],
   "source": [
    "y_score = cross_val_score(mlp_clf, X_train, y_train, cv=10)\n",
    "\n",
    "metrics = [\n",
    "    [\"Mean squared error (MSE)\", mean_squared_error(y_test, gscv_pred)],\n",
    "    [\"Mean absolute error (MAE)\", mean_absolute_error(y_test, gscv_pred)],\n",
    "    [\"Accuracy\", gscv.score(X_test, y_test)],\n",
    "    [\"Cross validation Accuracy\", gscv.best_score_]\n",
    "]\n",
    "pd.DataFrame(data=metrics, columns=[\"Metric\", \"Score\"])"
   ]
  },
  {
   "source": [
    "При оптимальных параметрах точность классификации выше, величина ошибки ниже."
   ],
   "cell_type": "markdown",
   "metadata": {}
  }
 ]
}