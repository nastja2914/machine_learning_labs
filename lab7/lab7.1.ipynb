{
 "cells": [
  {
   "cell_type": "markdown",
   "metadata": {},
   "source": [
    "## Лабораторная работа №7. Метод опорных векторов и логистическая регрессия в решении задач машинного обучения.\n",
    "### Часть 1. Метод опорных векторов.\n",
    "\n",
    "Используется [текстовый](https://habr.com/ru/post/264339/) набор данных [The 20 newsgroups](https://scikit-learn.org/0.19/datasets/twenty_newsgroups.html)."
   ]
  },
  {
   "cell_type": "code",
   "execution_count": 1,
   "metadata": {},
   "outputs": [],
   "source": [
    "import pandas as pd\n",
    "import numpy as np\n",
    "import matplotlib.pyplot as plt\n",
    "from sklearn.feature_extraction.text import TfidfVectorizer\n",
    "from sklearn.model_selection import KFold, GridSearchCV\n",
    "from sklearn.svm import SVC\n",
    "from sklearn.metrics import classification_report, roc_curve, roc_auc_score\n",
    "from sklearn.datasets import fetch_20newsgroups\n",
    "import os\n",
    "import requests\n",
    "\n",
    "%matplotlib inline\n",
    "\n",
    "pd.options.display.max_columns = None"
   ]
  },
  {
   "cell_type": "code",
   "execution_count": 2,
   "metadata": {},
   "outputs": [
    {
     "data": {
      "text/plain": [
       "['alt.atheism',\n",
       " 'comp.graphics',\n",
       " 'comp.os.ms-windows.misc',\n",
       " 'comp.sys.ibm.pc.hardware',\n",
       " 'comp.sys.mac.hardware',\n",
       " 'comp.windows.x',\n",
       " 'misc.forsale',\n",
       " 'rec.autos',\n",
       " 'rec.motorcycles',\n",
       " 'rec.sport.baseball',\n",
       " 'rec.sport.hockey',\n",
       " 'sci.crypt',\n",
       " 'sci.electronics',\n",
       " 'sci.med',\n",
       " 'sci.space',\n",
       " 'soc.religion.christian',\n",
       " 'talk.politics.guns',\n",
       " 'talk.politics.mideast',\n",
       " 'talk.politics.misc',\n",
       " 'talk.religion.misc']"
      ]
     },
     "execution_count": 2,
     "metadata": {},
     "output_type": "execute_result"
    }
   ],
   "source": [
    "data = fetch_20newsgroups()\n",
    "data.target_names"
   ]
  },
  {
   "cell_type": "markdown",
   "metadata": {},
   "source": [
    "Вычислим TF-IDF-признаки для всех текстов"
   ]
  },
  {
   "cell_type": "code",
   "execution_count": 3,
   "metadata": {},
   "outputs": [],
   "source": [
    "categories = [\"comp.sys.mac.hardware\", \"rec.sport.baseball\", \"sci.space\", \"talk.religion.misc\"]\n",
    "data_train = fetch_20newsgroups(subset=\"train\", remove=(\"headers\", \"footers\", \"quotes\"), categories=categories)\n",
    "\n",
    "vectorizer = TfidfVectorizer(stop_words=\"english\")\n",
    "vectors_train = vectorizer.fit_transform(data_train.data)"
   ]
  },
  {
   "cell_type": "markdown",
   "metadata": {},
   "source": [
    "Подберем минимальный лучший параметр C для метода опорных векторов с линейным ядром при помощи кроссвалидации по k-блокам."
   ]
  },
  {
   "cell_type": "code",
   "execution_count": 4,
   "metadata": {},
   "outputs": [
    {
     "data": {
      "text/plain": [
       "{'C': 1.0, 'kernel': 'linear'}"
      ]
     },
     "execution_count": 4,
     "metadata": {},
     "output_type": "execute_result"
    }
   ],
   "source": [
    "cv = KFold(n_splits=10)\n",
    "params = {\"kernel\": [\"linear\"], \"C\": np.power(10.0, np.arange(-5, 6))}\n",
    "gscv = GridSearchCV(SVC(), params, scoring=\"accuracy\", cv=cv)\n",
    "gscv.fit(vectors_train, data_train.target)\n",
    "gscv.best_params_"
   ]
  },
  {
   "cell_type": "markdown",
   "metadata": {},
   "source": [
    "Обучим модель с помощью метода опорных векторов по всей выборке с лучшим параметром C"
   ]
  },
  {
   "cell_type": "code",
   "execution_count": 5,
   "metadata": {},
   "outputs": [],
   "source": [
    "data_test = fetch_20newsgroups(subset=\"test\", remove=(\"headers\", \"footers\", \"quotes\"), categories=categories)\n",
    "vectors_test = vectorizer.transform(data_test.data)\n",
    "\n",
    "svc_best = gscv.best_estimator_\n",
    "y_pred = svc_best.predict(vectors_test)"
   ]
  },
  {
   "cell_type": "markdown",
   "metadata": {},
   "source": [
    "Оценим получившуюся классификацию."
   ]
  },
  {
   "cell_type": "code",
   "execution_count": 6,
   "metadata": {},
   "outputs": [
    {
     "name": "stdout",
     "output_type": "stream",
     "text": [
      "              precision    recall  f1-score   support\n",
      "\n",
      "           0       0.94      0.86      0.90       385\n",
      "           1       0.90      0.89      0.89       397\n",
      "           2       0.76      0.92      0.83       394\n",
      "           3       0.93      0.76      0.84       251\n",
      "\n",
      "    accuracy                           0.87      1427\n",
      "   macro avg       0.88      0.86      0.87      1427\n",
      "weighted avg       0.88      0.87      0.87      1427\n",
      "\n"
     ]
    }
   ],
   "source": [
    "print(classification_report(data_test.target, y_pred))"
   ]
  },
  {
   "cell_type": "markdown",
   "metadata": {},
   "source": [
    "Найдем 10 слов с наибольшим по модулю весом."
   ]
  },
  {
   "cell_type": "code",
   "execution_count": 7,
   "metadata": {},
   "outputs": [
    {
     "name": "stdout",
     "output_type": "stream",
     "text": [
      "['scsi', 'monitor', 'mouse', 'team', 'problem', 'se', 'drive', 'apple', 'baseball', 'mac']\n"
     ]
    }
   ],
   "source": [
    "all_idx = np.argsort(np.absolute(svc_best.coef_.toarray()))\n",
    "idx = np.array(all_idx[0,-10:])\n",
    "print(np.array(vectorizer.get_feature_names())[idx].tolist())"
   ]
  }
 ],
 "metadata": {
  "kernelspec": {
   "display_name": "Python 3",
   "language": "python",
   "name": "python3"
  },
  "language_info": {
   "codemirror_mode": {
    "name": "ipython",
    "version": 3
   },
   "file_extension": ".py",
   "mimetype": "text/x-python",
   "name": "python",
   "nbconvert_exporter": "python",
   "pygments_lexer": "ipython3",
   "version": "3.8.3"
  }
 },
 "nbformat": 4,
 "nbformat_minor": 4
}
