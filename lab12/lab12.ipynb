{
 "metadata": {
  "language_info": {
   "codemirror_mode": {
    "name": "ipython",
    "version": 3
   },
   "file_extension": ".py",
   "mimetype": "text/x-python",
   "name": "python",
   "nbconvert_exporter": "python",
   "pygments_lexer": "ipython3",
   "version": "3.8.6-final"
  },
  "orig_nbformat": 2,
  "kernelspec": {
   "name": "python3",
   "display_name": "Python 3"
  }
 },
 "nbformat": 4,
 "nbformat_minor": 2,
 "cells": [
  {
   "source": [
    "## Лабораторная работа №12. Решение задач глубокого обучения.\n",
    "\n",
    "Используемый набор данных: [banknote authentication](https://archive.ics.uci.edu/ml/datasets/banknote+authentication)"
   ],
   "cell_type": "markdown",
   "metadata": {}
  },
  {
   "cell_type": "code",
   "execution_count": 1,
   "metadata": {},
   "outputs": [],
   "source": [
    "import numpy as np\n",
    "import pandas as pd\n",
    "import matplotlib.pyplot as plt\n",
    "from sklearn.preprocessing import LabelEncoder, normalize\n",
    "from sklearn.model_selection import train_test_split\n",
    "from sklearn.metrics import roc_curve, roc_auc_score\n",
    "from tensorflow import keras\n",
    "from tensorflow.keras import layers\n",
    "import os\n",
    "import requests\n",
    "\n",
    "%matplotlib inline\n",
    "pd.options.display.max_columns = None"
   ]
  },
  {
   "cell_type": "code",
   "execution_count": 2,
   "metadata": {},
   "outputs": [],
   "source": [
    "def downloadFile(url, filePath):\n",
    "    if not os.path.exists(filePath):\n",
    "        req = requests.get(url)\n",
    "        f = open(filePath, \"wb\")\n",
    "        f.write(req.content)\n",
    "        f.close\n",
    "\n",
    "url = \"https://archive.ics.uci.edu/ml/machine-learning-databases/00267\"\n",
    "downloadFile(url + \"/data_banknote_authentication.txt\", \"dataset/data_banknote_authentication.txt\")"
   ]
  },
  {
   "source": [
    "Опишем заголовки колонок. Для удобства используем сокращенные названия:\n",
    "- **Variance** - Variance of Wavelet Transformed image.\n",
    "- **Skewness** - Skewness of Wavelet Transformed image.\n",
    "- **Curtosis** - Curtosis of Wavelet Transformed image.\n",
    "- **Entropy** - Entropy of image."
   ],
   "cell_type": "markdown",
   "metadata": {}
  },
  {
   "cell_type": "code",
   "execution_count": 3,
   "metadata": {},
   "outputs": [
    {
     "output_type": "execute_result",
     "data": {
      "text/plain": [
       "      Variance  Skewness  Curtosis   Entropy Class\n",
       "139  -0.206200    9.2207   -3.7044 -6.810300     0\n",
       "959  -6.397900    6.4479    1.0836 -6.617600     1\n",
       "1237 -0.887280    2.8080   -3.1432 -1.203500     1\n",
       "226   0.570600   -0.0248    1.2421 -0.562100     0\n",
       "406   0.147830    7.9460    1.0742 -3.340900     0\n",
       "459   0.774450    9.0552   -2.4089 -1.388400     0\n",
       "448   3.936400   10.5885   -3.7250 -4.313300     0\n",
       "432   5.177600    8.2316   -3.2511 -1.569400     0\n",
       "326  -0.161080   -6.4624    8.3573 -1.521600     0\n",
       "455   2.668200   10.2160   -3.4414 -4.006900     0\n",
       "1231 -0.778480    3.4019   -3.4859 -3.556900     1\n",
       "1246 -2.456100   -4.5566    6.4534 -0.056479     1\n",
       "1176 -0.595870    2.4811   -2.8673 -0.898280     1\n",
       "983  -2.033600   -1.4092    1.1582  0.365070     1\n",
       "77    0.049175    6.1437    1.7828 -0.721130     0\n",
       "483   0.967880    7.1907    1.2798 -2.456500     0\n",
       "1191 -2.566500   -6.8824    7.5416  0.707740     1\n",
       "542   2.823200   10.8513   -3.1466 -3.978400     0\n",
       "823  -1.979000    3.2301   -1.3575 -2.581900     1\n",
       "515   5.878200    5.9409   -2.8544 -0.608630     0"
      ],
      "text/html": "<div>\n<style scoped>\n    .dataframe tbody tr th:only-of-type {\n        vertical-align: middle;\n    }\n\n    .dataframe tbody tr th {\n        vertical-align: top;\n    }\n\n    .dataframe thead th {\n        text-align: right;\n    }\n</style>\n<table border=\"1\" class=\"dataframe\">\n  <thead>\n    <tr style=\"text-align: right;\">\n      <th></th>\n      <th>Variance</th>\n      <th>Skewness</th>\n      <th>Curtosis</th>\n      <th>Entropy</th>\n      <th>Class</th>\n    </tr>\n  </thead>\n  <tbody>\n    <tr>\n      <th>139</th>\n      <td>-0.206200</td>\n      <td>9.2207</td>\n      <td>-3.7044</td>\n      <td>-6.810300</td>\n      <td>0</td>\n    </tr>\n    <tr>\n      <th>959</th>\n      <td>-6.397900</td>\n      <td>6.4479</td>\n      <td>1.0836</td>\n      <td>-6.617600</td>\n      <td>1</td>\n    </tr>\n    <tr>\n      <th>1237</th>\n      <td>-0.887280</td>\n      <td>2.8080</td>\n      <td>-3.1432</td>\n      <td>-1.203500</td>\n      <td>1</td>\n    </tr>\n    <tr>\n      <th>226</th>\n      <td>0.570600</td>\n      <td>-0.0248</td>\n      <td>1.2421</td>\n      <td>-0.562100</td>\n      <td>0</td>\n    </tr>\n    <tr>\n      <th>406</th>\n      <td>0.147830</td>\n      <td>7.9460</td>\n      <td>1.0742</td>\n      <td>-3.340900</td>\n      <td>0</td>\n    </tr>\n    <tr>\n      <th>459</th>\n      <td>0.774450</td>\n      <td>9.0552</td>\n      <td>-2.4089</td>\n      <td>-1.388400</td>\n      <td>0</td>\n    </tr>\n    <tr>\n      <th>448</th>\n      <td>3.936400</td>\n      <td>10.5885</td>\n      <td>-3.7250</td>\n      <td>-4.313300</td>\n      <td>0</td>\n    </tr>\n    <tr>\n      <th>432</th>\n      <td>5.177600</td>\n      <td>8.2316</td>\n      <td>-3.2511</td>\n      <td>-1.569400</td>\n      <td>0</td>\n    </tr>\n    <tr>\n      <th>326</th>\n      <td>-0.161080</td>\n      <td>-6.4624</td>\n      <td>8.3573</td>\n      <td>-1.521600</td>\n      <td>0</td>\n    </tr>\n    <tr>\n      <th>455</th>\n      <td>2.668200</td>\n      <td>10.2160</td>\n      <td>-3.4414</td>\n      <td>-4.006900</td>\n      <td>0</td>\n    </tr>\n    <tr>\n      <th>1231</th>\n      <td>-0.778480</td>\n      <td>3.4019</td>\n      <td>-3.4859</td>\n      <td>-3.556900</td>\n      <td>1</td>\n    </tr>\n    <tr>\n      <th>1246</th>\n      <td>-2.456100</td>\n      <td>-4.5566</td>\n      <td>6.4534</td>\n      <td>-0.056479</td>\n      <td>1</td>\n    </tr>\n    <tr>\n      <th>1176</th>\n      <td>-0.595870</td>\n      <td>2.4811</td>\n      <td>-2.8673</td>\n      <td>-0.898280</td>\n      <td>1</td>\n    </tr>\n    <tr>\n      <th>983</th>\n      <td>-2.033600</td>\n      <td>-1.4092</td>\n      <td>1.1582</td>\n      <td>0.365070</td>\n      <td>1</td>\n    </tr>\n    <tr>\n      <th>77</th>\n      <td>0.049175</td>\n      <td>6.1437</td>\n      <td>1.7828</td>\n      <td>-0.721130</td>\n      <td>0</td>\n    </tr>\n    <tr>\n      <th>483</th>\n      <td>0.967880</td>\n      <td>7.1907</td>\n      <td>1.2798</td>\n      <td>-2.456500</td>\n      <td>0</td>\n    </tr>\n    <tr>\n      <th>1191</th>\n      <td>-2.566500</td>\n      <td>-6.8824</td>\n      <td>7.5416</td>\n      <td>0.707740</td>\n      <td>1</td>\n    </tr>\n    <tr>\n      <th>542</th>\n      <td>2.823200</td>\n      <td>10.8513</td>\n      <td>-3.1466</td>\n      <td>-3.978400</td>\n      <td>0</td>\n    </tr>\n    <tr>\n      <th>823</th>\n      <td>-1.979000</td>\n      <td>3.2301</td>\n      <td>-1.3575</td>\n      <td>-2.581900</td>\n      <td>1</td>\n    </tr>\n    <tr>\n      <th>515</th>\n      <td>5.878200</td>\n      <td>5.9409</td>\n      <td>-2.8544</td>\n      <td>-0.608630</td>\n      <td>0</td>\n    </tr>\n  </tbody>\n</table>\n</div>"
     },
     "metadata": {},
     "execution_count": 3
    }
   ],
   "source": [
    "headers = [\"Variance\", \"Skewness\", \"Curtosis\", \"Entropy\", \"Class\"]  \n",
    "data = pd.read_csv(\"dataset/data_banknote_authentication.txt\", names=headers)\n",
    "data = data.astype({\"Class\": \"category\"})\n",
    "data.sample(20)"
   ]
  },
  {
   "cell_type": "code",
   "execution_count": 4,
   "metadata": {},
   "outputs": [
    {
     "output_type": "display_data",
     "data": {
      "text/plain": "          Variance     Skewness     Curtosis      Entropy\ncount  1372.000000  1372.000000  1372.000000  1372.000000\nmean      0.433735     1.922353     1.397627    -1.191657\nstd       2.842763     5.869047     4.310030     2.101013\nmin      -7.042100   -13.773100    -5.286100    -8.548200\n25%      -1.773000    -1.708200    -1.574975    -2.413450\n50%       0.496180     2.319650     0.616630    -0.586650\n75%       2.821475     6.814625     3.179250     0.394810\nmax       6.824800    12.951600    17.927400     2.449500",
      "text/html": "<div>\n<style scoped>\n    .dataframe tbody tr th:only-of-type {\n        vertical-align: middle;\n    }\n\n    .dataframe tbody tr th {\n        vertical-align: top;\n    }\n\n    .dataframe thead th {\n        text-align: right;\n    }\n</style>\n<table border=\"1\" class=\"dataframe\">\n  <thead>\n    <tr style=\"text-align: right;\">\n      <th></th>\n      <th>Variance</th>\n      <th>Skewness</th>\n      <th>Curtosis</th>\n      <th>Entropy</th>\n    </tr>\n  </thead>\n  <tbody>\n    <tr>\n      <th>count</th>\n      <td>1372.000000</td>\n      <td>1372.000000</td>\n      <td>1372.000000</td>\n      <td>1372.000000</td>\n    </tr>\n    <tr>\n      <th>mean</th>\n      <td>0.433735</td>\n      <td>1.922353</td>\n      <td>1.397627</td>\n      <td>-1.191657</td>\n    </tr>\n    <tr>\n      <th>std</th>\n      <td>2.842763</td>\n      <td>5.869047</td>\n      <td>4.310030</td>\n      <td>2.101013</td>\n    </tr>\n    <tr>\n      <th>min</th>\n      <td>-7.042100</td>\n      <td>-13.773100</td>\n      <td>-5.286100</td>\n      <td>-8.548200</td>\n    </tr>\n    <tr>\n      <th>25%</th>\n      <td>-1.773000</td>\n      <td>-1.708200</td>\n      <td>-1.574975</td>\n      <td>-2.413450</td>\n    </tr>\n    <tr>\n      <th>50%</th>\n      <td>0.496180</td>\n      <td>2.319650</td>\n      <td>0.616630</td>\n      <td>-0.586650</td>\n    </tr>\n    <tr>\n      <th>75%</th>\n      <td>2.821475</td>\n      <td>6.814625</td>\n      <td>3.179250</td>\n      <td>0.394810</td>\n    </tr>\n    <tr>\n      <th>max</th>\n      <td>6.824800</td>\n      <td>12.951600</td>\n      <td>17.927400</td>\n      <td>2.449500</td>\n    </tr>\n  </tbody>\n</table>\n</div>"
     },
     "metadata": {}
    },
    {
     "output_type": "display_data",
     "data": {
      "text/plain": "Variance    0\nSkewness    0\nCurtosis    0\nEntropy     0\nClass       0\ndtype: int64"
     },
     "metadata": {}
    }
   ],
   "source": [
    "display(data.describe())\n",
    "display(data.isna().sum())"
   ]
  },
  {
   "source": [
    "Подготовим данные: выберем признаки и метки и сформируем тренировочные и тестовые наборы."
   ],
   "cell_type": "markdown",
   "metadata": {}
  },
  {
   "cell_type": "code",
   "execution_count": 5,
   "metadata": {},
   "outputs": [
    {
     "output_type": "execute_result",
     "data": {
      "text/plain": [
       "      Variance  Skewness  Curtosis   Entropy\n",
       "1349  0.272411  0.219240  0.568859  0.744396\n",
       "1188  0.109729  0.253439  0.640676  0.716424\n",
       "725   0.705662  0.155182  0.584965  0.368477\n",
       "886   0.220298  0.038628  0.715819  0.661498\n",
       "339   0.526284  0.574572  0.328851  0.533619\n",
       "152   0.704113  0.239952  0.312698  0.590651\n",
       "973   0.694886  0.705468  0.016755  0.138448\n",
       "1092  0.289841  0.030590  0.877171  0.381611\n",
       "81    0.672317  0.335889  0.374707  0.542921\n",
       "687   0.386899  0.736524  0.455482  0.316825\n",
       "22    0.699955  0.705978  0.057225  0.091560\n",
       "333   0.683733  0.589217  0.171604  0.394822\n",
       "1318  0.548373  0.726647  0.303378  0.281484\n",
       "47    0.388774  0.917893  0.079045  0.008872\n",
       "1096  0.052754  0.816778  0.572108  0.052754\n",
       "981   0.014077  0.925773  0.376768  0.028154\n",
       "94    0.603914  0.334104  0.477620  0.543637\n",
       "826   0.048949  0.019579  0.942827  0.329086\n",
       "280   0.368019  0.221284  0.669179  0.606462\n",
       "256   0.644180  0.172492  0.532530  0.521240"
      ],
      "text/html": "<div>\n<style scoped>\n    .dataframe tbody tr th:only-of-type {\n        vertical-align: middle;\n    }\n\n    .dataframe tbody tr th {\n        vertical-align: top;\n    }\n\n    .dataframe thead th {\n        text-align: right;\n    }\n</style>\n<table border=\"1\" class=\"dataframe\">\n  <thead>\n    <tr style=\"text-align: right;\">\n      <th></th>\n      <th>Variance</th>\n      <th>Skewness</th>\n      <th>Curtosis</th>\n      <th>Entropy</th>\n    </tr>\n  </thead>\n  <tbody>\n    <tr>\n      <th>1349</th>\n      <td>0.272411</td>\n      <td>0.219240</td>\n      <td>0.568859</td>\n      <td>0.744396</td>\n    </tr>\n    <tr>\n      <th>1188</th>\n      <td>0.109729</td>\n      <td>0.253439</td>\n      <td>0.640676</td>\n      <td>0.716424</td>\n    </tr>\n    <tr>\n      <th>725</th>\n      <td>0.705662</td>\n      <td>0.155182</td>\n      <td>0.584965</td>\n      <td>0.368477</td>\n    </tr>\n    <tr>\n      <th>886</th>\n      <td>0.220298</td>\n      <td>0.038628</td>\n      <td>0.715819</td>\n      <td>0.661498</td>\n    </tr>\n    <tr>\n      <th>339</th>\n      <td>0.526284</td>\n      <td>0.574572</td>\n      <td>0.328851</td>\n      <td>0.533619</td>\n    </tr>\n    <tr>\n      <th>152</th>\n      <td>0.704113</td>\n      <td>0.239952</td>\n      <td>0.312698</td>\n      <td>0.590651</td>\n    </tr>\n    <tr>\n      <th>973</th>\n      <td>0.694886</td>\n      <td>0.705468</td>\n      <td>0.016755</td>\n      <td>0.138448</td>\n    </tr>\n    <tr>\n      <th>1092</th>\n      <td>0.289841</td>\n      <td>0.030590</td>\n      <td>0.877171</td>\n      <td>0.381611</td>\n    </tr>\n    <tr>\n      <th>81</th>\n      <td>0.672317</td>\n      <td>0.335889</td>\n      <td>0.374707</td>\n      <td>0.542921</td>\n    </tr>\n    <tr>\n      <th>687</th>\n      <td>0.386899</td>\n      <td>0.736524</td>\n      <td>0.455482</td>\n      <td>0.316825</td>\n    </tr>\n    <tr>\n      <th>22</th>\n      <td>0.699955</td>\n      <td>0.705978</td>\n      <td>0.057225</td>\n      <td>0.091560</td>\n    </tr>\n    <tr>\n      <th>333</th>\n      <td>0.683733</td>\n      <td>0.589217</td>\n      <td>0.171604</td>\n      <td>0.394822</td>\n    </tr>\n    <tr>\n      <th>1318</th>\n      <td>0.548373</td>\n      <td>0.726647</td>\n      <td>0.303378</td>\n      <td>0.281484</td>\n    </tr>\n    <tr>\n      <th>47</th>\n      <td>0.388774</td>\n      <td>0.917893</td>\n      <td>0.079045</td>\n      <td>0.008872</td>\n    </tr>\n    <tr>\n      <th>1096</th>\n      <td>0.052754</td>\n      <td>0.816778</td>\n      <td>0.572108</td>\n      <td>0.052754</td>\n    </tr>\n    <tr>\n      <th>981</th>\n      <td>0.014077</td>\n      <td>0.925773</td>\n      <td>0.376768</td>\n      <td>0.028154</td>\n    </tr>\n    <tr>\n      <th>94</th>\n      <td>0.603914</td>\n      <td>0.334104</td>\n      <td>0.477620</td>\n      <td>0.543637</td>\n    </tr>\n    <tr>\n      <th>826</th>\n      <td>0.048949</td>\n      <td>0.019579</td>\n      <td>0.942827</td>\n      <td>0.329086</td>\n    </tr>\n    <tr>\n      <th>280</th>\n      <td>0.368019</td>\n      <td>0.221284</td>\n      <td>0.669179</td>\n      <td>0.606462</td>\n    </tr>\n    <tr>\n      <th>256</th>\n      <td>0.644180</td>\n      <td>0.172492</td>\n      <td>0.532530</td>\n      <td>0.521240</td>\n    </tr>\n  </tbody>\n</table>\n</div>"
     },
     "metadata": {},
     "execution_count": 5
    }
   ],
   "source": [
    "for column in data.columns:\n",
    "    le = LabelEncoder()\n",
    "    data[column] = le.fit_transform(data[column])\n",
    "\n",
    "X = data.drop(columns=[\"Class\"]).copy()\n",
    "X_norm = pd.DataFrame(normalize(X), columns=headers[:-1])\n",
    "y = data[\"Class\"].copy()\n",
    "\n",
    "X_norm.sample(20)"
   ]
  },
  {
   "cell_type": "code",
   "execution_count": 6,
   "metadata": {},
   "outputs": [],
   "source": [
    "X_train, X_test, y_train, y_test = train_test_split(X_norm, y, test_size=0.33, random_state=42)"
   ]
  },
  {
   "source": [
    "Создадим нейронную сеть"
   ],
   "cell_type": "markdown",
   "metadata": {}
  },
  {
   "cell_type": "code",
   "execution_count": 7,
   "metadata": {
    "tags": []
   },
   "outputs": [
    {
     "output_type": "stream",
     "name": "stdout",
     "text": [
      "Epoch 1/100\n",
      "58/58 [==============================] - 0s 776us/step - loss: 0.6735 - accuracy: 0.5539\n",
      "Epoch 2/100\n",
      "58/58 [==============================] - 0s 845us/step - loss: 0.6680 - accuracy: 0.5495\n",
      "Epoch 3/100\n",
      "58/58 [==============================] - 0s 1ms/step - loss: 0.6603 - accuracy: 0.5495\n",
      "Epoch 4/100\n",
      "58/58 [==============================] - 0s 741us/step - loss: 0.6468 - accuracy: 0.5495\n",
      "Epoch 5/100\n",
      "58/58 [==============================] - 0s 931us/step - loss: 0.6277 - accuracy: 0.6094\n",
      "Epoch 6/100\n",
      "58/58 [==============================] - 0s 1ms/step - loss: 0.6150 - accuracy: 0.6518\n",
      "Epoch 7/100\n",
      "58/58 [==============================] - 0s 1ms/step - loss: 0.6076 - accuracy: 0.6746\n",
      "Epoch 8/100\n",
      "58/58 [==============================] - 0s 1ms/step - loss: 0.6013 - accuracy: 0.7029\n",
      "Epoch 9/100\n",
      "58/58 [==============================] - 0s 1ms/step - loss: 0.5954 - accuracy: 0.7171\n",
      "Epoch 10/100\n",
      "58/58 [==============================] - 0s 1ms/step - loss: 0.5898 - accuracy: 0.7323\n",
      "Epoch 11/100\n",
      "58/58 [==============================] - 0s 966us/step - loss: 0.5844 - accuracy: 0.7497\n",
      "Epoch 12/100\n",
      "58/58 [==============================] - 0s 1ms/step - loss: 0.5791 - accuracy: 0.7682\n",
      "Epoch 13/100\n",
      "58/58 [==============================] - 0s 983us/step - loss: 0.5743 - accuracy: 0.7737\n",
      "Epoch 14/100\n",
      "58/58 [==============================] - 0s 1ms/step - loss: 0.5690 - accuracy: 0.7900\n",
      "Epoch 15/100\n",
      "58/58 [==============================] - 0s 1ms/step - loss: 0.5641 - accuracy: 0.7867\n",
      "Epoch 16/100\n",
      "58/58 [==============================] - 0s 931us/step - loss: 0.5590 - accuracy: 0.7867\n",
      "Epoch 17/100\n",
      "58/58 [==============================] - 0s 1ms/step - loss: 0.5539 - accuracy: 0.7911\n",
      "Epoch 18/100\n",
      "58/58 [==============================] - 0s 1ms/step - loss: 0.5490 - accuracy: 0.7911\n",
      "Epoch 19/100\n",
      "58/58 [==============================] - 0s 1ms/step - loss: 0.5437 - accuracy: 0.7911\n",
      "Epoch 20/100\n",
      "58/58 [==============================] - 0s 1ms/step - loss: 0.5389 - accuracy: 0.7933\n",
      "Epoch 21/100\n",
      "58/58 [==============================] - 0s 1ms/step - loss: 0.5343 - accuracy: 0.7922\n",
      "Epoch 22/100\n",
      "58/58 [==============================] - 0s 1ms/step - loss: 0.5293 - accuracy: 0.7965\n",
      "Epoch 23/100\n",
      "58/58 [==============================] - 0s 1ms/step - loss: 0.5244 - accuracy: 0.7998\n",
      "Epoch 24/100\n",
      "58/58 [==============================] - 0s 1ms/step - loss: 0.5192 - accuracy: 0.7998\n",
      "Epoch 25/100\n",
      "58/58 [==============================] - 0s 1ms/step - loss: 0.5143 - accuracy: 0.8052\n",
      "Epoch 26/100\n",
      "58/58 [==============================] - 0s 1ms/step - loss: 0.5096 - accuracy: 0.8030\n",
      "Epoch 27/100\n",
      "58/58 [==============================] - 0s 1ms/step - loss: 0.5049 - accuracy: 0.8096\n",
      "Epoch 28/100\n",
      "58/58 [==============================] - 0s 983us/step - loss: 0.5004 - accuracy: 0.8118\n",
      "Epoch 29/100\n",
      "58/58 [==============================] - 0s 1ms/step - loss: 0.4950 - accuracy: 0.8172\n",
      "Epoch 30/100\n",
      "58/58 [==============================] - 0s 1ms/step - loss: 0.4908 - accuracy: 0.8194\n",
      "Epoch 31/100\n",
      "58/58 [==============================] - 0s 1ms/step - loss: 0.4859 - accuracy: 0.8226\n",
      "Epoch 32/100\n",
      "58/58 [==============================] - 0s 1ms/step - loss: 0.4815 - accuracy: 0.8324\n",
      "Epoch 33/100\n",
      "58/58 [==============================] - 0s 1ms/step - loss: 0.4773 - accuracy: 0.8313\n",
      "Epoch 34/100\n",
      "58/58 [==============================] - 0s 1ms/step - loss: 0.4729 - accuracy: 0.8400\n",
      "Epoch 35/100\n",
      "58/58 [==============================] - 0s 1ms/step - loss: 0.4688 - accuracy: 0.8368\n",
      "Epoch 36/100\n",
      "58/58 [==============================] - 0s 1ms/step - loss: 0.4648 - accuracy: 0.8411\n",
      "Epoch 37/100\n",
      "58/58 [==============================] - 0s 1ms/step - loss: 0.4611 - accuracy: 0.8466\n",
      "Epoch 38/100\n",
      "58/58 [==============================] - 0s 2ms/step - loss: 0.4571 - accuracy: 0.8444\n",
      "Epoch 39/100\n",
      "58/58 [==============================] - 0s 2ms/step - loss: 0.4533 - accuracy: 0.8477\n",
      "Epoch 40/100\n",
      "58/58 [==============================] - 0s 1ms/step - loss: 0.4497 - accuracy: 0.8509\n",
      "Epoch 41/100\n",
      "58/58 [==============================] - 0s 1ms/step - loss: 0.4462 - accuracy: 0.8531\n",
      "Epoch 42/100\n",
      "58/58 [==============================] - 0s 1ms/step - loss: 0.4428 - accuracy: 0.8520\n",
      "Epoch 43/100\n",
      "58/58 [==============================] - 0s 1ms/step - loss: 0.4398 - accuracy: 0.8564\n",
      "Epoch 44/100\n",
      "58/58 [==============================] - 0s 1ms/step - loss: 0.4365 - accuracy: 0.8564\n",
      "Epoch 45/100\n",
      "58/58 [==============================] - 0s 1ms/step - loss: 0.4336 - accuracy: 0.8575\n",
      "Epoch 46/100\n",
      "58/58 [==============================] - 0s 1ms/step - loss: 0.4304 - accuracy: 0.8585\n",
      "Epoch 47/100\n",
      "58/58 [==============================] - 0s 1ms/step - loss: 0.4275 - accuracy: 0.8585\n",
      "Epoch 48/100\n",
      "58/58 [==============================] - 0s 1ms/step - loss: 0.4249 - accuracy: 0.8629\n",
      "Epoch 49/100\n",
      "58/58 [==============================] - 0s 1ms/step - loss: 0.4232 - accuracy: 0.8596\n",
      "Epoch 50/100\n",
      "58/58 [==============================] - 0s 1ms/step - loss: 0.4201 - accuracy: 0.8640\n",
      "Epoch 51/100\n",
      "58/58 [==============================] - 0s 1ms/step - loss: 0.4173 - accuracy: 0.8651\n",
      "Epoch 52/100\n",
      "58/58 [==============================] - 0s 1ms/step - loss: 0.4152 - accuracy: 0.8672\n",
      "Epoch 53/100\n",
      "58/58 [==============================] - 0s 1ms/step - loss: 0.4127 - accuracy: 0.8672\n",
      "Epoch 54/100\n",
      "58/58 [==============================] - 0s 1ms/step - loss: 0.4101 - accuracy: 0.8672\n",
      "Epoch 55/100\n",
      "58/58 [==============================] - 0s 1ms/step - loss: 0.4078 - accuracy: 0.8694\n",
      "Epoch 56/100\n",
      "58/58 [==============================] - 0s 1ms/step - loss: 0.4059 - accuracy: 0.8749\n",
      "Epoch 57/100\n",
      "58/58 [==============================] - 0s 2ms/step - loss: 0.4042 - accuracy: 0.8683\n",
      "Epoch 58/100\n",
      "58/58 [==============================] - 0s 1ms/step - loss: 0.4018 - accuracy: 0.8716\n",
      "Epoch 59/100\n",
      "58/58 [==============================] - 0s 1ms/step - loss: 0.3989 - accuracy: 0.8749\n",
      "Epoch 60/100\n",
      "58/58 [==============================] - 0s 1ms/step - loss: 0.3966 - accuracy: 0.8738\n",
      "Epoch 61/100\n",
      "58/58 [==============================] - 0s 1ms/step - loss: 0.3948 - accuracy: 0.8749\n",
      "Epoch 62/100\n",
      "58/58 [==============================] - 0s 1ms/step - loss: 0.3924 - accuracy: 0.8727\n",
      "Epoch 63/100\n",
      "58/58 [==============================] - 0s 1ms/step - loss: 0.3905 - accuracy: 0.8770\n",
      "Epoch 64/100\n",
      "58/58 [==============================] - 0s 1ms/step - loss: 0.3884 - accuracy: 0.8749\n",
      "Epoch 65/100\n",
      "58/58 [==============================] - 0s 1ms/step - loss: 0.3861 - accuracy: 0.8749\n",
      "Epoch 66/100\n",
      "58/58 [==============================] - 0s 1ms/step - loss: 0.3847 - accuracy: 0.8716\n",
      "Epoch 67/100\n",
      "58/58 [==============================] - 0s 1ms/step - loss: 0.3826 - accuracy: 0.8770\n",
      "Epoch 68/100\n",
      "58/58 [==============================] - 0s 1ms/step - loss: 0.3812 - accuracy: 0.8705\n",
      "Epoch 69/100\n",
      "58/58 [==============================] - 0s 2ms/step - loss: 0.3795 - accuracy: 0.8792\n",
      "Epoch 70/100\n",
      "58/58 [==============================] - 0s 2ms/step - loss: 0.3776 - accuracy: 0.8781\n",
      "Epoch 71/100\n",
      "58/58 [==============================] - 0s 2ms/step - loss: 0.3759 - accuracy: 0.8760\n",
      "Epoch 72/100\n",
      "58/58 [==============================] - 0s 2ms/step - loss: 0.3746 - accuracy: 0.8749\n",
      "Epoch 73/100\n",
      "58/58 [==============================] - 0s 2ms/step - loss: 0.3730 - accuracy: 0.8716\n",
      "Epoch 74/100\n",
      "58/58 [==============================] - 0s 2ms/step - loss: 0.3716 - accuracy: 0.8836\n",
      "Epoch 75/100\n",
      "58/58 [==============================] - 0s 2ms/step - loss: 0.3703 - accuracy: 0.8738\n",
      "Epoch 76/100\n",
      "58/58 [==============================] - 0s 2ms/step - loss: 0.3688 - accuracy: 0.8770\n",
      "Epoch 77/100\n",
      "58/58 [==============================] - 0s 2ms/step - loss: 0.3674 - accuracy: 0.8781\n",
      "Epoch 78/100\n",
      "58/58 [==============================] - 0s 3ms/step - loss: 0.3662 - accuracy: 0.8781\n",
      "Epoch 79/100\n",
      "58/58 [==============================] - 0s 2ms/step - loss: 0.3647 - accuracy: 0.8760\n",
      "Epoch 80/100\n",
      "58/58 [==============================] - 0s 3ms/step - loss: 0.3643 - accuracy: 0.8770\n",
      "Epoch 81/100\n",
      "58/58 [==============================] - 0s 1ms/step - loss: 0.3624 - accuracy: 0.8792\n",
      "Epoch 82/100\n",
      "58/58 [==============================] - 0s 1ms/step - loss: 0.3609 - accuracy: 0.8792\n",
      "Epoch 83/100\n",
      "58/58 [==============================] - 0s 1ms/step - loss: 0.3598 - accuracy: 0.8781\n",
      "Epoch 84/100\n",
      "58/58 [==============================] - 0s 1ms/step - loss: 0.3589 - accuracy: 0.8760\n",
      "Epoch 85/100\n",
      "58/58 [==============================] - 0s 1ms/step - loss: 0.3578 - accuracy: 0.8738\n",
      "Epoch 86/100\n",
      "58/58 [==============================] - 0s 1ms/step - loss: 0.3567 - accuracy: 0.8836\n",
      "Epoch 87/100\n",
      "58/58 [==============================] - 0s 1ms/step - loss: 0.3554 - accuracy: 0.8760\n",
      "Epoch 88/100\n",
      "58/58 [==============================] - 0s 1ms/step - loss: 0.3543 - accuracy: 0.8781\n",
      "Epoch 89/100\n",
      "58/58 [==============================] - 0s 1ms/step - loss: 0.3537 - accuracy: 0.8716\n",
      "Epoch 90/100\n",
      "58/58 [==============================] - 0s 2ms/step - loss: 0.3522 - accuracy: 0.8760\n",
      "Epoch 91/100\n",
      "58/58 [==============================] - 0s 1ms/step - loss: 0.3516 - accuracy: 0.8770\n",
      "Epoch 92/100\n",
      "58/58 [==============================] - 0s 1ms/step - loss: 0.3506 - accuracy: 0.8770\n",
      "Epoch 93/100\n",
      "58/58 [==============================] - 0s 1ms/step - loss: 0.3493 - accuracy: 0.8749\n",
      "Epoch 94/100\n",
      "58/58 [==============================] - 0s 1ms/step - loss: 0.3485 - accuracy: 0.8738\n",
      "Epoch 95/100\n",
      "58/58 [==============================] - 0s 1ms/step - loss: 0.3472 - accuracy: 0.8781\n",
      "Epoch 96/100\n",
      "58/58 [==============================] - 0s 1ms/step - loss: 0.3468 - accuracy: 0.8781\n",
      "Epoch 97/100\n",
      "58/58 [==============================] - 0s 1ms/step - loss: 0.3458 - accuracy: 0.8727\n",
      "Epoch 98/100\n",
      "58/58 [==============================] - 0s 1ms/step - loss: 0.3452 - accuracy: 0.8770\n",
      "Epoch 99/100\n",
      "58/58 [==============================] - 0s 1ms/step - loss: 0.3444 - accuracy: 0.8770\n",
      "Epoch 100/100\n",
      "58/58 [==============================] - 0s 1ms/step - loss: 0.3436 - accuracy: 0.8781\n"
     ]
    },
    {
     "output_type": "execute_result",
     "data": {
      "text/plain": [
       "<tensorflow.python.keras.callbacks.History at 0x2362fda9b50>"
      ]
     },
     "metadata": {},
     "execution_count": 7
    }
   ],
   "source": [
    "model = keras.Sequential([\n",
    "        layers.Dense(4, activation=\"relu\"),\n",
    "        layers.Dense(1, activation=\"sigmoid\"),\n",
    "    ])\n",
    "model.compile(optimizer='adam', loss='binary_crossentropy', metrics=['accuracy'])\n",
    "model.fit(X_train.to_numpy(), y_train.to_numpy(), batch_size=16, epochs=100)"
   ]
  },
  {
   "cell_type": "code",
   "execution_count": 8,
   "metadata": {},
   "outputs": [
    {
     "output_type": "display_data",
     "data": {
      "text/plain": "<Figure size 432x288 with 1 Axes>",
      "image/svg+xml": "<?xml version=\"1.0\" encoding=\"utf-8\" standalone=\"no\"?>\r\n<!DOCTYPE svg PUBLIC \"-//W3C//DTD SVG 1.1//EN\"\r\n  \"http://www.w3.org/Graphics/SVG/1.1/DTD/svg11.dtd\">\r\n<!-- Created with matplotlib (https://matplotlib.org/) -->\r\n<svg height=\"277.314375pt\" version=\"1.1\" viewBox=\"0 0 393.732813 277.314375\" width=\"393.732813pt\" xmlns=\"http://www.w3.org/2000/svg\" xmlns:xlink=\"http://www.w3.org/1999/xlink\">\r\n <metadata>\r\n  <rdf:RDF xmlns:cc=\"http://creativecommons.org/ns#\" xmlns:dc=\"http://purl.org/dc/elements/1.1/\" xmlns:rdf=\"http://www.w3.org/1999/02/22-rdf-syntax-ns#\">\r\n   <cc:Work>\r\n    <dc:type rdf:resource=\"http://purl.org/dc/dcmitype/StillImage\"/>\r\n    <dc:date>2020-12-11T16:58:45.128407</dc:date>\r\n    <dc:format>image/svg+xml</dc:format>\r\n    <dc:creator>\r\n     <cc:Agent>\r\n      <dc:title>Matplotlib v3.3.3, https://matplotlib.org/</dc:title>\r\n     </cc:Agent>\r\n    </dc:creator>\r\n   </cc:Work>\r\n  </rdf:RDF>\r\n </metadata>\r\n <defs>\r\n  <style type=\"text/css\">*{stroke-linecap:butt;stroke-linejoin:round;}</style>\r\n </defs>\r\n <g id=\"figure_1\">\r\n  <g id=\"patch_1\">\r\n   <path d=\"M 0 277.314375 \r\nL 393.732813 277.314375 \r\nL 393.732813 0 \r\nL 0 0 \r\nz\r\n\" style=\"fill:none;\"/>\r\n  </g>\r\n  <g id=\"axes_1\">\r\n   <g id=\"patch_2\">\r\n    <path d=\"M 43.78125 239.758125 \r\nL 378.58125 239.758125 \r\nL 378.58125 22.318125 \r\nL 43.78125 22.318125 \r\nz\r\n\" style=\"fill:#ffffff;\"/>\r\n   </g>\r\n   <g id=\"matplotlib.axis_1\">\r\n    <g id=\"xtick_1\">\r\n     <g id=\"line2d_1\">\r\n      <defs>\r\n       <path d=\"M 0 0 \r\nL 0 3.5 \r\n\" id=\"mdc45fa86e9\" style=\"stroke:#000000;stroke-width:0.8;\"/>\r\n      </defs>\r\n      <g>\r\n       <use style=\"stroke:#000000;stroke-width:0.8;\" x=\"43.78125\" xlink:href=\"#mdc45fa86e9\" y=\"239.758125\"/>\r\n      </g>\r\n     </g>\r\n     <g id=\"text_1\">\r\n      <!-- 0.0 -->\r\n      <g transform=\"translate(35.829688 254.356562)scale(0.1 -0.1)\">\r\n       <defs>\r\n        <path d=\"M 31.78125 66.40625 \r\nQ 24.171875 66.40625 20.328125 58.90625 \r\nQ 16.5 51.421875 16.5 36.375 \r\nQ 16.5 21.390625 20.328125 13.890625 \r\nQ 24.171875 6.390625 31.78125 6.390625 \r\nQ 39.453125 6.390625 43.28125 13.890625 \r\nQ 47.125 21.390625 47.125 36.375 \r\nQ 47.125 51.421875 43.28125 58.90625 \r\nQ 39.453125 66.40625 31.78125 66.40625 \r\nz\r\nM 31.78125 74.21875 \r\nQ 44.046875 74.21875 50.515625 64.515625 \r\nQ 56.984375 54.828125 56.984375 36.375 \r\nQ 56.984375 17.96875 50.515625 8.265625 \r\nQ 44.046875 -1.421875 31.78125 -1.421875 \r\nQ 19.53125 -1.421875 13.0625 8.265625 \r\nQ 6.59375 17.96875 6.59375 36.375 \r\nQ 6.59375 54.828125 13.0625 64.515625 \r\nQ 19.53125 74.21875 31.78125 74.21875 \r\nz\r\n\" id=\"DejaVuSans-48\"/>\r\n        <path d=\"M 10.6875 12.40625 \r\nL 21 12.40625 \r\nL 21 0 \r\nL 10.6875 0 \r\nz\r\n\" id=\"DejaVuSans-46\"/>\r\n       </defs>\r\n       <use xlink:href=\"#DejaVuSans-48\"/>\r\n       <use x=\"63.623047\" xlink:href=\"#DejaVuSans-46\"/>\r\n       <use x=\"95.410156\" xlink:href=\"#DejaVuSans-48\"/>\r\n      </g>\r\n     </g>\r\n    </g>\r\n    <g id=\"xtick_2\">\r\n     <g id=\"line2d_2\">\r\n      <g>\r\n       <use style=\"stroke:#000000;stroke-width:0.8;\" x=\"110.74125\" xlink:href=\"#mdc45fa86e9\" y=\"239.758125\"/>\r\n      </g>\r\n     </g>\r\n     <g id=\"text_2\">\r\n      <!-- 0.2 -->\r\n      <g transform=\"translate(102.789688 254.356562)scale(0.1 -0.1)\">\r\n       <defs>\r\n        <path d=\"M 19.1875 8.296875 \r\nL 53.609375 8.296875 \r\nL 53.609375 0 \r\nL 7.328125 0 \r\nL 7.328125 8.296875 \r\nQ 12.9375 14.109375 22.625 23.890625 \r\nQ 32.328125 33.6875 34.8125 36.53125 \r\nQ 39.546875 41.84375 41.421875 45.53125 \r\nQ 43.3125 49.21875 43.3125 52.78125 \r\nQ 43.3125 58.59375 39.234375 62.25 \r\nQ 35.15625 65.921875 28.609375 65.921875 \r\nQ 23.96875 65.921875 18.8125 64.3125 \r\nQ 13.671875 62.703125 7.8125 59.421875 \r\nL 7.8125 69.390625 \r\nQ 13.765625 71.78125 18.9375 73 \r\nQ 24.125 74.21875 28.421875 74.21875 \r\nQ 39.75 74.21875 46.484375 68.546875 \r\nQ 53.21875 62.890625 53.21875 53.421875 \r\nQ 53.21875 48.921875 51.53125 44.890625 \r\nQ 49.859375 40.875 45.40625 35.40625 \r\nQ 44.1875 33.984375 37.640625 27.21875 \r\nQ 31.109375 20.453125 19.1875 8.296875 \r\nz\r\n\" id=\"DejaVuSans-50\"/>\r\n       </defs>\r\n       <use xlink:href=\"#DejaVuSans-48\"/>\r\n       <use x=\"63.623047\" xlink:href=\"#DejaVuSans-46\"/>\r\n       <use x=\"95.410156\" xlink:href=\"#DejaVuSans-50\"/>\r\n      </g>\r\n     </g>\r\n    </g>\r\n    <g id=\"xtick_3\">\r\n     <g id=\"line2d_3\">\r\n      <g>\r\n       <use style=\"stroke:#000000;stroke-width:0.8;\" x=\"177.70125\" xlink:href=\"#mdc45fa86e9\" y=\"239.758125\"/>\r\n      </g>\r\n     </g>\r\n     <g id=\"text_3\">\r\n      <!-- 0.4 -->\r\n      <g transform=\"translate(169.749688 254.356562)scale(0.1 -0.1)\">\r\n       <defs>\r\n        <path d=\"M 37.796875 64.3125 \r\nL 12.890625 25.390625 \r\nL 37.796875 25.390625 \r\nz\r\nM 35.203125 72.90625 \r\nL 47.609375 72.90625 \r\nL 47.609375 25.390625 \r\nL 58.015625 25.390625 \r\nL 58.015625 17.1875 \r\nL 47.609375 17.1875 \r\nL 47.609375 0 \r\nL 37.796875 0 \r\nL 37.796875 17.1875 \r\nL 4.890625 17.1875 \r\nL 4.890625 26.703125 \r\nz\r\n\" id=\"DejaVuSans-52\"/>\r\n       </defs>\r\n       <use xlink:href=\"#DejaVuSans-48\"/>\r\n       <use x=\"63.623047\" xlink:href=\"#DejaVuSans-46\"/>\r\n       <use x=\"95.410156\" xlink:href=\"#DejaVuSans-52\"/>\r\n      </g>\r\n     </g>\r\n    </g>\r\n    <g id=\"xtick_4\">\r\n     <g id=\"line2d_4\">\r\n      <g>\r\n       <use style=\"stroke:#000000;stroke-width:0.8;\" x=\"244.66125\" xlink:href=\"#mdc45fa86e9\" y=\"239.758125\"/>\r\n      </g>\r\n     </g>\r\n     <g id=\"text_4\">\r\n      <!-- 0.6 -->\r\n      <g transform=\"translate(236.709688 254.356562)scale(0.1 -0.1)\">\r\n       <defs>\r\n        <path d=\"M 33.015625 40.375 \r\nQ 26.375 40.375 22.484375 35.828125 \r\nQ 18.609375 31.296875 18.609375 23.390625 \r\nQ 18.609375 15.53125 22.484375 10.953125 \r\nQ 26.375 6.390625 33.015625 6.390625 \r\nQ 39.65625 6.390625 43.53125 10.953125 \r\nQ 47.40625 15.53125 47.40625 23.390625 \r\nQ 47.40625 31.296875 43.53125 35.828125 \r\nQ 39.65625 40.375 33.015625 40.375 \r\nz\r\nM 52.59375 71.296875 \r\nL 52.59375 62.3125 \r\nQ 48.875 64.0625 45.09375 64.984375 \r\nQ 41.3125 65.921875 37.59375 65.921875 \r\nQ 27.828125 65.921875 22.671875 59.328125 \r\nQ 17.53125 52.734375 16.796875 39.40625 \r\nQ 19.671875 43.65625 24.015625 45.921875 \r\nQ 28.375 48.1875 33.59375 48.1875 \r\nQ 44.578125 48.1875 50.953125 41.515625 \r\nQ 57.328125 34.859375 57.328125 23.390625 \r\nQ 57.328125 12.15625 50.6875 5.359375 \r\nQ 44.046875 -1.421875 33.015625 -1.421875 \r\nQ 20.359375 -1.421875 13.671875 8.265625 \r\nQ 6.984375 17.96875 6.984375 36.375 \r\nQ 6.984375 53.65625 15.1875 63.9375 \r\nQ 23.390625 74.21875 37.203125 74.21875 \r\nQ 40.921875 74.21875 44.703125 73.484375 \r\nQ 48.484375 72.75 52.59375 71.296875 \r\nz\r\n\" id=\"DejaVuSans-54\"/>\r\n       </defs>\r\n       <use xlink:href=\"#DejaVuSans-48\"/>\r\n       <use x=\"63.623047\" xlink:href=\"#DejaVuSans-46\"/>\r\n       <use x=\"95.410156\" xlink:href=\"#DejaVuSans-54\"/>\r\n      </g>\r\n     </g>\r\n    </g>\r\n    <g id=\"xtick_5\">\r\n     <g id=\"line2d_5\">\r\n      <g>\r\n       <use style=\"stroke:#000000;stroke-width:0.8;\" x=\"311.62125\" xlink:href=\"#mdc45fa86e9\" y=\"239.758125\"/>\r\n      </g>\r\n     </g>\r\n     <g id=\"text_5\">\r\n      <!-- 0.8 -->\r\n      <g transform=\"translate(303.669688 254.356562)scale(0.1 -0.1)\">\r\n       <defs>\r\n        <path d=\"M 31.78125 34.625 \r\nQ 24.75 34.625 20.71875 30.859375 \r\nQ 16.703125 27.09375 16.703125 20.515625 \r\nQ 16.703125 13.921875 20.71875 10.15625 \r\nQ 24.75 6.390625 31.78125 6.390625 \r\nQ 38.8125 6.390625 42.859375 10.171875 \r\nQ 46.921875 13.96875 46.921875 20.515625 \r\nQ 46.921875 27.09375 42.890625 30.859375 \r\nQ 38.875 34.625 31.78125 34.625 \r\nz\r\nM 21.921875 38.8125 \r\nQ 15.578125 40.375 12.03125 44.71875 \r\nQ 8.5 49.078125 8.5 55.328125 \r\nQ 8.5 64.0625 14.71875 69.140625 \r\nQ 20.953125 74.21875 31.78125 74.21875 \r\nQ 42.671875 74.21875 48.875 69.140625 \r\nQ 55.078125 64.0625 55.078125 55.328125 \r\nQ 55.078125 49.078125 51.53125 44.71875 \r\nQ 48 40.375 41.703125 38.8125 \r\nQ 48.828125 37.15625 52.796875 32.3125 \r\nQ 56.78125 27.484375 56.78125 20.515625 \r\nQ 56.78125 9.90625 50.3125 4.234375 \r\nQ 43.84375 -1.421875 31.78125 -1.421875 \r\nQ 19.734375 -1.421875 13.25 4.234375 \r\nQ 6.78125 9.90625 6.78125 20.515625 \r\nQ 6.78125 27.484375 10.78125 32.3125 \r\nQ 14.796875 37.15625 21.921875 38.8125 \r\nz\r\nM 18.3125 54.390625 \r\nQ 18.3125 48.734375 21.84375 45.5625 \r\nQ 25.390625 42.390625 31.78125 42.390625 \r\nQ 38.140625 42.390625 41.71875 45.5625 \r\nQ 45.3125 48.734375 45.3125 54.390625 \r\nQ 45.3125 60.0625 41.71875 63.234375 \r\nQ 38.140625 66.40625 31.78125 66.40625 \r\nQ 25.390625 66.40625 21.84375 63.234375 \r\nQ 18.3125 60.0625 18.3125 54.390625 \r\nz\r\n\" id=\"DejaVuSans-56\"/>\r\n       </defs>\r\n       <use xlink:href=\"#DejaVuSans-48\"/>\r\n       <use x=\"63.623047\" xlink:href=\"#DejaVuSans-46\"/>\r\n       <use x=\"95.410156\" xlink:href=\"#DejaVuSans-56\"/>\r\n      </g>\r\n     </g>\r\n    </g>\r\n    <g id=\"xtick_6\">\r\n     <g id=\"line2d_6\">\r\n      <g>\r\n       <use style=\"stroke:#000000;stroke-width:0.8;\" x=\"378.58125\" xlink:href=\"#mdc45fa86e9\" y=\"239.758125\"/>\r\n      </g>\r\n     </g>\r\n     <g id=\"text_6\">\r\n      <!-- 1.0 -->\r\n      <g transform=\"translate(370.629687 254.356562)scale(0.1 -0.1)\">\r\n       <defs>\r\n        <path d=\"M 12.40625 8.296875 \r\nL 28.515625 8.296875 \r\nL 28.515625 63.921875 \r\nL 10.984375 60.40625 \r\nL 10.984375 69.390625 \r\nL 28.421875 72.90625 \r\nL 38.28125 72.90625 \r\nL 38.28125 8.296875 \r\nL 54.390625 8.296875 \r\nL 54.390625 0 \r\nL 12.40625 0 \r\nz\r\n\" id=\"DejaVuSans-49\"/>\r\n       </defs>\r\n       <use xlink:href=\"#DejaVuSans-49\"/>\r\n       <use x=\"63.623047\" xlink:href=\"#DejaVuSans-46\"/>\r\n       <use x=\"95.410156\" xlink:href=\"#DejaVuSans-48\"/>\r\n      </g>\r\n     </g>\r\n    </g>\r\n    <g id=\"text_7\">\r\n     <!-- False Positive Rate -->\r\n     <g transform=\"translate(164.714844 268.034687)scale(0.1 -0.1)\">\r\n      <defs>\r\n       <path d=\"M 9.8125 72.90625 \r\nL 51.703125 72.90625 \r\nL 51.703125 64.59375 \r\nL 19.671875 64.59375 \r\nL 19.671875 43.109375 \r\nL 48.578125 43.109375 \r\nL 48.578125 34.8125 \r\nL 19.671875 34.8125 \r\nL 19.671875 0 \r\nL 9.8125 0 \r\nz\r\n\" id=\"DejaVuSans-70\"/>\r\n       <path d=\"M 34.28125 27.484375 \r\nQ 23.390625 27.484375 19.1875 25 \r\nQ 14.984375 22.515625 14.984375 16.5 \r\nQ 14.984375 11.71875 18.140625 8.90625 \r\nQ 21.296875 6.109375 26.703125 6.109375 \r\nQ 34.1875 6.109375 38.703125 11.40625 \r\nQ 43.21875 16.703125 43.21875 25.484375 \r\nL 43.21875 27.484375 \r\nz\r\nM 52.203125 31.203125 \r\nL 52.203125 0 \r\nL 43.21875 0 \r\nL 43.21875 8.296875 \r\nQ 40.140625 3.328125 35.546875 0.953125 \r\nQ 30.953125 -1.421875 24.3125 -1.421875 \r\nQ 15.921875 -1.421875 10.953125 3.296875 \r\nQ 6 8.015625 6 15.921875 \r\nQ 6 25.140625 12.171875 29.828125 \r\nQ 18.359375 34.515625 30.609375 34.515625 \r\nL 43.21875 34.515625 \r\nL 43.21875 35.40625 \r\nQ 43.21875 41.609375 39.140625 45 \r\nQ 35.0625 48.390625 27.6875 48.390625 \r\nQ 23 48.390625 18.546875 47.265625 \r\nQ 14.109375 46.140625 10.015625 43.890625 \r\nL 10.015625 52.203125 \r\nQ 14.9375 54.109375 19.578125 55.046875 \r\nQ 24.21875 56 28.609375 56 \r\nQ 40.484375 56 46.34375 49.84375 \r\nQ 52.203125 43.703125 52.203125 31.203125 \r\nz\r\n\" id=\"DejaVuSans-97\"/>\r\n       <path d=\"M 9.421875 75.984375 \r\nL 18.40625 75.984375 \r\nL 18.40625 0 \r\nL 9.421875 0 \r\nz\r\n\" id=\"DejaVuSans-108\"/>\r\n       <path d=\"M 44.28125 53.078125 \r\nL 44.28125 44.578125 \r\nQ 40.484375 46.53125 36.375 47.5 \r\nQ 32.28125 48.484375 27.875 48.484375 \r\nQ 21.1875 48.484375 17.84375 46.4375 \r\nQ 14.5 44.390625 14.5 40.28125 \r\nQ 14.5 37.15625 16.890625 35.375 \r\nQ 19.28125 33.59375 26.515625 31.984375 \r\nL 29.59375 31.296875 \r\nQ 39.15625 29.25 43.1875 25.515625 \r\nQ 47.21875 21.78125 47.21875 15.09375 \r\nQ 47.21875 7.46875 41.1875 3.015625 \r\nQ 35.15625 -1.421875 24.609375 -1.421875 \r\nQ 20.21875 -1.421875 15.453125 -0.5625 \r\nQ 10.6875 0.296875 5.421875 2 \r\nL 5.421875 11.28125 \r\nQ 10.40625 8.6875 15.234375 7.390625 \r\nQ 20.0625 6.109375 24.8125 6.109375 \r\nQ 31.15625 6.109375 34.5625 8.28125 \r\nQ 37.984375 10.453125 37.984375 14.40625 \r\nQ 37.984375 18.0625 35.515625 20.015625 \r\nQ 33.0625 21.96875 24.703125 23.78125 \r\nL 21.578125 24.515625 \r\nQ 13.234375 26.265625 9.515625 29.90625 \r\nQ 5.8125 33.546875 5.8125 39.890625 \r\nQ 5.8125 47.609375 11.28125 51.796875 \r\nQ 16.75 56 26.8125 56 \r\nQ 31.78125 56 36.171875 55.265625 \r\nQ 40.578125 54.546875 44.28125 53.078125 \r\nz\r\n\" id=\"DejaVuSans-115\"/>\r\n       <path d=\"M 56.203125 29.59375 \r\nL 56.203125 25.203125 \r\nL 14.890625 25.203125 \r\nQ 15.484375 15.921875 20.484375 11.0625 \r\nQ 25.484375 6.203125 34.421875 6.203125 \r\nQ 39.59375 6.203125 44.453125 7.46875 \r\nQ 49.3125 8.734375 54.109375 11.28125 \r\nL 54.109375 2.78125 \r\nQ 49.265625 0.734375 44.1875 -0.34375 \r\nQ 39.109375 -1.421875 33.890625 -1.421875 \r\nQ 20.796875 -1.421875 13.15625 6.1875 \r\nQ 5.515625 13.8125 5.515625 26.8125 \r\nQ 5.515625 40.234375 12.765625 48.109375 \r\nQ 20.015625 56 32.328125 56 \r\nQ 43.359375 56 49.78125 48.890625 \r\nQ 56.203125 41.796875 56.203125 29.59375 \r\nz\r\nM 47.21875 32.234375 \r\nQ 47.125 39.59375 43.09375 43.984375 \r\nQ 39.0625 48.390625 32.421875 48.390625 \r\nQ 24.90625 48.390625 20.390625 44.140625 \r\nQ 15.875 39.890625 15.1875 32.171875 \r\nz\r\n\" id=\"DejaVuSans-101\"/>\r\n       <path id=\"DejaVuSans-32\"/>\r\n       <path d=\"M 19.671875 64.796875 \r\nL 19.671875 37.40625 \r\nL 32.078125 37.40625 \r\nQ 38.96875 37.40625 42.71875 40.96875 \r\nQ 46.484375 44.53125 46.484375 51.125 \r\nQ 46.484375 57.671875 42.71875 61.234375 \r\nQ 38.96875 64.796875 32.078125 64.796875 \r\nz\r\nM 9.8125 72.90625 \r\nL 32.078125 72.90625 \r\nQ 44.34375 72.90625 50.609375 67.359375 \r\nQ 56.890625 61.8125 56.890625 51.125 \r\nQ 56.890625 40.328125 50.609375 34.8125 \r\nQ 44.34375 29.296875 32.078125 29.296875 \r\nL 19.671875 29.296875 \r\nL 19.671875 0 \r\nL 9.8125 0 \r\nz\r\n\" id=\"DejaVuSans-80\"/>\r\n       <path d=\"M 30.609375 48.390625 \r\nQ 23.390625 48.390625 19.1875 42.75 \r\nQ 14.984375 37.109375 14.984375 27.296875 \r\nQ 14.984375 17.484375 19.15625 11.84375 \r\nQ 23.34375 6.203125 30.609375 6.203125 \r\nQ 37.796875 6.203125 41.984375 11.859375 \r\nQ 46.1875 17.53125 46.1875 27.296875 \r\nQ 46.1875 37.015625 41.984375 42.703125 \r\nQ 37.796875 48.390625 30.609375 48.390625 \r\nz\r\nM 30.609375 56 \r\nQ 42.328125 56 49.015625 48.375 \r\nQ 55.71875 40.765625 55.71875 27.296875 \r\nQ 55.71875 13.875 49.015625 6.21875 \r\nQ 42.328125 -1.421875 30.609375 -1.421875 \r\nQ 18.84375 -1.421875 12.171875 6.21875 \r\nQ 5.515625 13.875 5.515625 27.296875 \r\nQ 5.515625 40.765625 12.171875 48.375 \r\nQ 18.84375 56 30.609375 56 \r\nz\r\n\" id=\"DejaVuSans-111\"/>\r\n       <path d=\"M 9.421875 54.6875 \r\nL 18.40625 54.6875 \r\nL 18.40625 0 \r\nL 9.421875 0 \r\nz\r\nM 9.421875 75.984375 \r\nL 18.40625 75.984375 \r\nL 18.40625 64.59375 \r\nL 9.421875 64.59375 \r\nz\r\n\" id=\"DejaVuSans-105\"/>\r\n       <path d=\"M 18.3125 70.21875 \r\nL 18.3125 54.6875 \r\nL 36.8125 54.6875 \r\nL 36.8125 47.703125 \r\nL 18.3125 47.703125 \r\nL 18.3125 18.015625 \r\nQ 18.3125 11.328125 20.140625 9.421875 \r\nQ 21.96875 7.515625 27.59375 7.515625 \r\nL 36.8125 7.515625 \r\nL 36.8125 0 \r\nL 27.59375 0 \r\nQ 17.1875 0 13.234375 3.875 \r\nQ 9.28125 7.765625 9.28125 18.015625 \r\nL 9.28125 47.703125 \r\nL 2.6875 47.703125 \r\nL 2.6875 54.6875 \r\nL 9.28125 54.6875 \r\nL 9.28125 70.21875 \r\nz\r\n\" id=\"DejaVuSans-116\"/>\r\n       <path d=\"M 2.984375 54.6875 \r\nL 12.5 54.6875 \r\nL 29.59375 8.796875 \r\nL 46.6875 54.6875 \r\nL 56.203125 54.6875 \r\nL 35.6875 0 \r\nL 23.484375 0 \r\nz\r\n\" id=\"DejaVuSans-118\"/>\r\n       <path d=\"M 44.390625 34.1875 \r\nQ 47.5625 33.109375 50.5625 29.59375 \r\nQ 53.5625 26.078125 56.59375 19.921875 \r\nL 66.609375 0 \r\nL 56 0 \r\nL 46.6875 18.703125 \r\nQ 43.0625 26.03125 39.671875 28.421875 \r\nQ 36.28125 30.8125 30.421875 30.8125 \r\nL 19.671875 30.8125 \r\nL 19.671875 0 \r\nL 9.8125 0 \r\nL 9.8125 72.90625 \r\nL 32.078125 72.90625 \r\nQ 44.578125 72.90625 50.734375 67.671875 \r\nQ 56.890625 62.453125 56.890625 51.90625 \r\nQ 56.890625 45.015625 53.6875 40.46875 \r\nQ 50.484375 35.9375 44.390625 34.1875 \r\nz\r\nM 19.671875 64.796875 \r\nL 19.671875 38.921875 \r\nL 32.078125 38.921875 \r\nQ 39.203125 38.921875 42.84375 42.21875 \r\nQ 46.484375 45.515625 46.484375 51.90625 \r\nQ 46.484375 58.296875 42.84375 61.546875 \r\nQ 39.203125 64.796875 32.078125 64.796875 \r\nz\r\n\" id=\"DejaVuSans-82\"/>\r\n      </defs>\r\n      <use xlink:href=\"#DejaVuSans-70\"/>\r\n      <use x=\"48.394531\" xlink:href=\"#DejaVuSans-97\"/>\r\n      <use x=\"109.673828\" xlink:href=\"#DejaVuSans-108\"/>\r\n      <use x=\"137.457031\" xlink:href=\"#DejaVuSans-115\"/>\r\n      <use x=\"189.556641\" xlink:href=\"#DejaVuSans-101\"/>\r\n      <use x=\"251.080078\" xlink:href=\"#DejaVuSans-32\"/>\r\n      <use x=\"282.867188\" xlink:href=\"#DejaVuSans-80\"/>\r\n      <use x=\"339.544922\" xlink:href=\"#DejaVuSans-111\"/>\r\n      <use x=\"400.726562\" xlink:href=\"#DejaVuSans-115\"/>\r\n      <use x=\"452.826172\" xlink:href=\"#DejaVuSans-105\"/>\r\n      <use x=\"480.609375\" xlink:href=\"#DejaVuSans-116\"/>\r\n      <use x=\"519.818359\" xlink:href=\"#DejaVuSans-105\"/>\r\n      <use x=\"547.601562\" xlink:href=\"#DejaVuSans-118\"/>\r\n      <use x=\"606.78125\" xlink:href=\"#DejaVuSans-101\"/>\r\n      <use x=\"668.304688\" xlink:href=\"#DejaVuSans-32\"/>\r\n      <use x=\"700.091797\" xlink:href=\"#DejaVuSans-82\"/>\r\n      <use x=\"767.324219\" xlink:href=\"#DejaVuSans-97\"/>\r\n      <use x=\"828.603516\" xlink:href=\"#DejaVuSans-116\"/>\r\n      <use x=\"867.8125\" xlink:href=\"#DejaVuSans-101\"/>\r\n     </g>\r\n    </g>\r\n   </g>\r\n   <g id=\"matplotlib.axis_2\">\r\n    <g id=\"ytick_1\">\r\n     <g id=\"line2d_7\">\r\n      <defs>\r\n       <path d=\"M 0 0 \r\nL -3.5 0 \r\n\" id=\"mbbd08f3b1d\" style=\"stroke:#000000;stroke-width:0.8;\"/>\r\n      </defs>\r\n      <g>\r\n       <use style=\"stroke:#000000;stroke-width:0.8;\" x=\"43.78125\" xlink:href=\"#mbbd08f3b1d\" y=\"239.758125\"/>\r\n      </g>\r\n     </g>\r\n     <g id=\"text_8\">\r\n      <!-- 0.0 -->\r\n      <g transform=\"translate(20.878125 243.557344)scale(0.1 -0.1)\">\r\n       <use xlink:href=\"#DejaVuSans-48\"/>\r\n       <use x=\"63.623047\" xlink:href=\"#DejaVuSans-46\"/>\r\n       <use x=\"95.410156\" xlink:href=\"#DejaVuSans-48\"/>\r\n      </g>\r\n     </g>\r\n    </g>\r\n    <g id=\"ytick_2\">\r\n     <g id=\"line2d_8\">\r\n      <g>\r\n       <use style=\"stroke:#000000;stroke-width:0.8;\" x=\"43.78125\" xlink:href=\"#mbbd08f3b1d\" y=\"196.270125\"/>\r\n      </g>\r\n     </g>\r\n     <g id=\"text_9\">\r\n      <!-- 0.2 -->\r\n      <g transform=\"translate(20.878125 200.069344)scale(0.1 -0.1)\">\r\n       <use xlink:href=\"#DejaVuSans-48\"/>\r\n       <use x=\"63.623047\" xlink:href=\"#DejaVuSans-46\"/>\r\n       <use x=\"95.410156\" xlink:href=\"#DejaVuSans-50\"/>\r\n      </g>\r\n     </g>\r\n    </g>\r\n    <g id=\"ytick_3\">\r\n     <g id=\"line2d_9\">\r\n      <g>\r\n       <use style=\"stroke:#000000;stroke-width:0.8;\" x=\"43.78125\" xlink:href=\"#mbbd08f3b1d\" y=\"152.782125\"/>\r\n      </g>\r\n     </g>\r\n     <g id=\"text_10\">\r\n      <!-- 0.4 -->\r\n      <g transform=\"translate(20.878125 156.581344)scale(0.1 -0.1)\">\r\n       <use xlink:href=\"#DejaVuSans-48\"/>\r\n       <use x=\"63.623047\" xlink:href=\"#DejaVuSans-46\"/>\r\n       <use x=\"95.410156\" xlink:href=\"#DejaVuSans-52\"/>\r\n      </g>\r\n     </g>\r\n    </g>\r\n    <g id=\"ytick_4\">\r\n     <g id=\"line2d_10\">\r\n      <g>\r\n       <use style=\"stroke:#000000;stroke-width:0.8;\" x=\"43.78125\" xlink:href=\"#mbbd08f3b1d\" y=\"109.294125\"/>\r\n      </g>\r\n     </g>\r\n     <g id=\"text_11\">\r\n      <!-- 0.6 -->\r\n      <g transform=\"translate(20.878125 113.093344)scale(0.1 -0.1)\">\r\n       <use xlink:href=\"#DejaVuSans-48\"/>\r\n       <use x=\"63.623047\" xlink:href=\"#DejaVuSans-46\"/>\r\n       <use x=\"95.410156\" xlink:href=\"#DejaVuSans-54\"/>\r\n      </g>\r\n     </g>\r\n    </g>\r\n    <g id=\"ytick_5\">\r\n     <g id=\"line2d_11\">\r\n      <g>\r\n       <use style=\"stroke:#000000;stroke-width:0.8;\" x=\"43.78125\" xlink:href=\"#mbbd08f3b1d\" y=\"65.806125\"/>\r\n      </g>\r\n     </g>\r\n     <g id=\"text_12\">\r\n      <!-- 0.8 -->\r\n      <g transform=\"translate(20.878125 69.605344)scale(0.1 -0.1)\">\r\n       <use xlink:href=\"#DejaVuSans-48\"/>\r\n       <use x=\"63.623047\" xlink:href=\"#DejaVuSans-46\"/>\r\n       <use x=\"95.410156\" xlink:href=\"#DejaVuSans-56\"/>\r\n      </g>\r\n     </g>\r\n    </g>\r\n    <g id=\"ytick_6\">\r\n     <g id=\"line2d_12\">\r\n      <g>\r\n       <use style=\"stroke:#000000;stroke-width:0.8;\" x=\"43.78125\" xlink:href=\"#mbbd08f3b1d\" y=\"22.318125\"/>\r\n      </g>\r\n     </g>\r\n     <g id=\"text_13\">\r\n      <!-- 1.0 -->\r\n      <g transform=\"translate(20.878125 26.117344)scale(0.1 -0.1)\">\r\n       <use xlink:href=\"#DejaVuSans-49\"/>\r\n       <use x=\"63.623047\" xlink:href=\"#DejaVuSans-46\"/>\r\n       <use x=\"95.410156\" xlink:href=\"#DejaVuSans-48\"/>\r\n      </g>\r\n     </g>\r\n    </g>\r\n    <g id=\"text_14\">\r\n     <!-- True Positive Rate -->\r\n     <g transform=\"translate(14.798438 175.567812)rotate(-90)scale(0.1 -0.1)\">\r\n      <defs>\r\n       <path d=\"M -0.296875 72.90625 \r\nL 61.375 72.90625 \r\nL 61.375 64.59375 \r\nL 35.5 64.59375 \r\nL 35.5 0 \r\nL 25.59375 0 \r\nL 25.59375 64.59375 \r\nL -0.296875 64.59375 \r\nz\r\n\" id=\"DejaVuSans-84\"/>\r\n       <path d=\"M 41.109375 46.296875 \r\nQ 39.59375 47.171875 37.8125 47.578125 \r\nQ 36.03125 48 33.890625 48 \r\nQ 26.265625 48 22.1875 43.046875 \r\nQ 18.109375 38.09375 18.109375 28.8125 \r\nL 18.109375 0 \r\nL 9.078125 0 \r\nL 9.078125 54.6875 \r\nL 18.109375 54.6875 \r\nL 18.109375 46.1875 \r\nQ 20.953125 51.171875 25.484375 53.578125 \r\nQ 30.03125 56 36.53125 56 \r\nQ 37.453125 56 38.578125 55.875 \r\nQ 39.703125 55.765625 41.0625 55.515625 \r\nz\r\n\" id=\"DejaVuSans-114\"/>\r\n       <path d=\"M 8.5 21.578125 \r\nL 8.5 54.6875 \r\nL 17.484375 54.6875 \r\nL 17.484375 21.921875 \r\nQ 17.484375 14.15625 20.5 10.265625 \r\nQ 23.53125 6.390625 29.59375 6.390625 \r\nQ 36.859375 6.390625 41.078125 11.03125 \r\nQ 45.3125 15.671875 45.3125 23.6875 \r\nL 45.3125 54.6875 \r\nL 54.296875 54.6875 \r\nL 54.296875 0 \r\nL 45.3125 0 \r\nL 45.3125 8.40625 \r\nQ 42.046875 3.421875 37.71875 1 \r\nQ 33.40625 -1.421875 27.6875 -1.421875 \r\nQ 18.265625 -1.421875 13.375 4.4375 \r\nQ 8.5 10.296875 8.5 21.578125 \r\nz\r\nM 31.109375 56 \r\nz\r\n\" id=\"DejaVuSans-117\"/>\r\n      </defs>\r\n      <use xlink:href=\"#DejaVuSans-84\"/>\r\n      <use x=\"46.333984\" xlink:href=\"#DejaVuSans-114\"/>\r\n      <use x=\"87.447266\" xlink:href=\"#DejaVuSans-117\"/>\r\n      <use x=\"150.826172\" xlink:href=\"#DejaVuSans-101\"/>\r\n      <use x=\"212.349609\" xlink:href=\"#DejaVuSans-32\"/>\r\n      <use x=\"244.136719\" xlink:href=\"#DejaVuSans-80\"/>\r\n      <use x=\"300.814453\" xlink:href=\"#DejaVuSans-111\"/>\r\n      <use x=\"361.996094\" xlink:href=\"#DejaVuSans-115\"/>\r\n      <use x=\"414.095703\" xlink:href=\"#DejaVuSans-105\"/>\r\n      <use x=\"441.878906\" xlink:href=\"#DejaVuSans-116\"/>\r\n      <use x=\"481.087891\" xlink:href=\"#DejaVuSans-105\"/>\r\n      <use x=\"508.871094\" xlink:href=\"#DejaVuSans-118\"/>\r\n      <use x=\"568.050781\" xlink:href=\"#DejaVuSans-101\"/>\r\n      <use x=\"629.574219\" xlink:href=\"#DejaVuSans-32\"/>\r\n      <use x=\"661.361328\" xlink:href=\"#DejaVuSans-82\"/>\r\n      <use x=\"728.59375\" xlink:href=\"#DejaVuSans-97\"/>\r\n      <use x=\"789.873047\" xlink:href=\"#DejaVuSans-116\"/>\r\n      <use x=\"829.082031\" xlink:href=\"#DejaVuSans-101\"/>\r\n     </g>\r\n    </g>\r\n   </g>\r\n   <g id=\"line2d_13\">\r\n    <path clip-path=\"url(#pcc612bbb59)\" d=\"M 43.78125 239.758125 \r\nL 43.78125 238.648737 \r\nL 43.78125 226.445472 \r\nL 45.083974 226.445472 \r\nL 45.083974 198.710778 \r\nL 46.386697 169.866696 \r\nL 46.386697 159.882207 \r\nL 47.689421 159.882207 \r\nL 47.689421 145.460166 \r\nL 48.992145 145.460166 \r\nL 48.992145 80.006288 \r\nL 51.597592 80.006288 \r\nL 51.597592 74.459349 \r\nL 52.900316 74.459349 \r\nL 52.900316 68.912411 \r\nL 54.20304 68.912411 \r\nL 54.20304 64.47486 \r\nL 55.505764 64.47486 \r\nL 55.505764 63.365472 \r\nL 56.808487 63.365472 \r\nL 56.808487 62.256084 \r\nL 59.413935 62.256084 \r\nL 59.413935 60.037309 \r\nL 62.019382 60.037309 \r\nL 62.019382 57.818533 \r\nL 63.322106 57.818533 \r\nL 63.322106 56.709145 \r\nL 65.927554 56.709145 \r\nL 65.927554 55.599758 \r\nL 68.533001 55.599758 \r\nL 68.533001 54.49037 \r\nL 73.743896 54.49037 \r\nL 73.743896 52.271594 \r\nL 75.04662 52.271594 \r\nL 75.04662 51.162207 \r\nL 77.652067 51.162207 \r\nL 77.652067 50.052819 \r\nL 80.257515 50.052819 \r\nL 80.257515 46.724656 \r\nL 85.46841 46.724656 \r\nL 85.46841 45.615268 \r\nL 93.284752 45.615268 \r\nL 95.890199 45.615268 \r\nL 105.009266 45.615268 \r\nL 105.009266 44.50588 \r\nL 108.917437 44.50588 \r\nL 108.917437 43.396492 \r\nL 119.339227 43.396492 \r\nL 119.339227 42.287105 \r\nL 134.971911 42.287105 \r\nL 134.971911 41.177717 \r\nL 145.393701 41.177717 \r\nL 145.393701 40.068329 \r\nL 147.999149 40.068329 \r\nL 147.999149 38.958941 \r\nL 166.237281 38.958941 \r\nL 166.237281 37.849554 \r\nL 175.356347 37.849554 \r\nL 175.356347 36.740166 \r\nL 179.264518 36.740166 \r\nL 179.264518 34.52139 \r\nL 185.778137 34.52139 \r\nL 185.778137 33.412003 \r\nL 187.080861 33.412003 \r\nL 187.080861 32.302615 \r\nL 190.989032 32.302615 \r\nL 190.989032 31.193227 \r\nL 193.59448 31.193227 \r\nL 193.59448 28.974452 \r\nL 201.410822 28.974452 \r\nL 201.410822 27.865064 \r\nL 219.648954 27.865064 \r\nL 219.648954 24.536901 \r\nL 236.584363 24.536901 \r\nL 239.18981 24.536901 \r\nL 256.125219 24.536901 \r\nL 256.125219 23.427513 \r\nL 266.547009 23.427513 \r\nL 269.152456 23.427513 \r\nL 283.482417 23.427513 \r\nL 283.482417 22.318125 \r\nL 378.58125 22.318125 \r\n\" style=\"fill:none;stroke:#0000ff;stroke-linecap:square;stroke-width:1.5;\"/>\r\n   </g>\r\n   <g id=\"line2d_14\">\r\n    <path clip-path=\"url(#pcc612bbb59)\" d=\"M 43.78125 239.758125 \r\nL 378.58125 22.318125 \r\n\" style=\"fill:none;stroke:#ff0000;stroke-dasharray:5.55,2.4;stroke-dashoffset:0;stroke-width:1.5;\"/>\r\n   </g>\r\n   <g id=\"patch_3\">\r\n    <path d=\"M 43.78125 239.758125 \r\nL 43.78125 22.318125 \r\n\" style=\"fill:none;stroke:#000000;stroke-linecap:square;stroke-linejoin:miter;stroke-width:0.8;\"/>\r\n   </g>\r\n   <g id=\"patch_4\">\r\n    <path d=\"M 378.58125 239.758125 \r\nL 378.58125 22.318125 \r\n\" style=\"fill:none;stroke:#000000;stroke-linecap:square;stroke-linejoin:miter;stroke-width:0.8;\"/>\r\n   </g>\r\n   <g id=\"patch_5\">\r\n    <path d=\"M 43.78125 239.758125 \r\nL 378.58125 239.758125 \r\n\" style=\"fill:none;stroke:#000000;stroke-linecap:square;stroke-linejoin:miter;stroke-width:0.8;\"/>\r\n   </g>\r\n   <g id=\"patch_6\">\r\n    <path d=\"M 43.78125 22.318125 \r\nL 378.58125 22.318125 \r\n\" style=\"fill:none;stroke:#000000;stroke-linecap:square;stroke-linejoin:miter;stroke-width:0.8;\"/>\r\n   </g>\r\n   <g id=\"text_15\">\r\n    <!-- Receiver Operating Characteristic -->\r\n    <g transform=\"translate(109.678125 16.318125)scale(0.12 -0.12)\">\r\n     <defs>\r\n      <path d=\"M 48.78125 52.59375 \r\nL 48.78125 44.1875 \r\nQ 44.96875 46.296875 41.140625 47.34375 \r\nQ 37.3125 48.390625 33.40625 48.390625 \r\nQ 24.65625 48.390625 19.8125 42.84375 \r\nQ 14.984375 37.3125 14.984375 27.296875 \r\nQ 14.984375 17.28125 19.8125 11.734375 \r\nQ 24.65625 6.203125 33.40625 6.203125 \r\nQ 37.3125 6.203125 41.140625 7.25 \r\nQ 44.96875 8.296875 48.78125 10.40625 \r\nL 48.78125 2.09375 \r\nQ 45.015625 0.34375 40.984375 -0.53125 \r\nQ 36.96875 -1.421875 32.421875 -1.421875 \r\nQ 20.0625 -1.421875 12.78125 6.34375 \r\nQ 5.515625 14.109375 5.515625 27.296875 \r\nQ 5.515625 40.671875 12.859375 48.328125 \r\nQ 20.21875 56 33.015625 56 \r\nQ 37.15625 56 41.109375 55.140625 \r\nQ 45.0625 54.296875 48.78125 52.59375 \r\nz\r\n\" id=\"DejaVuSans-99\"/>\r\n      <path d=\"M 39.40625 66.21875 \r\nQ 28.65625 66.21875 22.328125 58.203125 \r\nQ 16.015625 50.203125 16.015625 36.375 \r\nQ 16.015625 22.609375 22.328125 14.59375 \r\nQ 28.65625 6.59375 39.40625 6.59375 \r\nQ 50.140625 6.59375 56.421875 14.59375 \r\nQ 62.703125 22.609375 62.703125 36.375 \r\nQ 62.703125 50.203125 56.421875 58.203125 \r\nQ 50.140625 66.21875 39.40625 66.21875 \r\nz\r\nM 39.40625 74.21875 \r\nQ 54.734375 74.21875 63.90625 63.9375 \r\nQ 73.09375 53.65625 73.09375 36.375 \r\nQ 73.09375 19.140625 63.90625 8.859375 \r\nQ 54.734375 -1.421875 39.40625 -1.421875 \r\nQ 24.03125 -1.421875 14.8125 8.828125 \r\nQ 5.609375 19.09375 5.609375 36.375 \r\nQ 5.609375 53.65625 14.8125 63.9375 \r\nQ 24.03125 74.21875 39.40625 74.21875 \r\nz\r\n\" id=\"DejaVuSans-79\"/>\r\n      <path d=\"M 18.109375 8.203125 \r\nL 18.109375 -20.796875 \r\nL 9.078125 -20.796875 \r\nL 9.078125 54.6875 \r\nL 18.109375 54.6875 \r\nL 18.109375 46.390625 \r\nQ 20.953125 51.265625 25.265625 53.625 \r\nQ 29.59375 56 35.59375 56 \r\nQ 45.5625 56 51.78125 48.09375 \r\nQ 58.015625 40.1875 58.015625 27.296875 \r\nQ 58.015625 14.40625 51.78125 6.484375 \r\nQ 45.5625 -1.421875 35.59375 -1.421875 \r\nQ 29.59375 -1.421875 25.265625 0.953125 \r\nQ 20.953125 3.328125 18.109375 8.203125 \r\nz\r\nM 48.6875 27.296875 \r\nQ 48.6875 37.203125 44.609375 42.84375 \r\nQ 40.53125 48.484375 33.40625 48.484375 \r\nQ 26.265625 48.484375 22.1875 42.84375 \r\nQ 18.109375 37.203125 18.109375 27.296875 \r\nQ 18.109375 17.390625 22.1875 11.75 \r\nQ 26.265625 6.109375 33.40625 6.109375 \r\nQ 40.53125 6.109375 44.609375 11.75 \r\nQ 48.6875 17.390625 48.6875 27.296875 \r\nz\r\n\" id=\"DejaVuSans-112\"/>\r\n      <path d=\"M 54.890625 33.015625 \r\nL 54.890625 0 \r\nL 45.90625 0 \r\nL 45.90625 32.71875 \r\nQ 45.90625 40.484375 42.875 44.328125 \r\nQ 39.84375 48.1875 33.796875 48.1875 \r\nQ 26.515625 48.1875 22.3125 43.546875 \r\nQ 18.109375 38.921875 18.109375 30.90625 \r\nL 18.109375 0 \r\nL 9.078125 0 \r\nL 9.078125 54.6875 \r\nL 18.109375 54.6875 \r\nL 18.109375 46.1875 \r\nQ 21.34375 51.125 25.703125 53.5625 \r\nQ 30.078125 56 35.796875 56 \r\nQ 45.21875 56 50.046875 50.171875 \r\nQ 54.890625 44.34375 54.890625 33.015625 \r\nz\r\n\" id=\"DejaVuSans-110\"/>\r\n      <path d=\"M 45.40625 27.984375 \r\nQ 45.40625 37.75 41.375 43.109375 \r\nQ 37.359375 48.484375 30.078125 48.484375 \r\nQ 22.859375 48.484375 18.828125 43.109375 \r\nQ 14.796875 37.75 14.796875 27.984375 \r\nQ 14.796875 18.265625 18.828125 12.890625 \r\nQ 22.859375 7.515625 30.078125 7.515625 \r\nQ 37.359375 7.515625 41.375 12.890625 \r\nQ 45.40625 18.265625 45.40625 27.984375 \r\nz\r\nM 54.390625 6.78125 \r\nQ 54.390625 -7.171875 48.1875 -13.984375 \r\nQ 42 -20.796875 29.203125 -20.796875 \r\nQ 24.46875 -20.796875 20.265625 -20.09375 \r\nQ 16.0625 -19.390625 12.109375 -17.921875 \r\nL 12.109375 -9.1875 \r\nQ 16.0625 -11.328125 19.921875 -12.34375 \r\nQ 23.78125 -13.375 27.78125 -13.375 \r\nQ 36.625 -13.375 41.015625 -8.765625 \r\nQ 45.40625 -4.15625 45.40625 5.171875 \r\nL 45.40625 9.625 \r\nQ 42.625 4.78125 38.28125 2.390625 \r\nQ 33.9375 0 27.875 0 \r\nQ 17.828125 0 11.671875 7.65625 \r\nQ 5.515625 15.328125 5.515625 27.984375 \r\nQ 5.515625 40.671875 11.671875 48.328125 \r\nQ 17.828125 56 27.875 56 \r\nQ 33.9375 56 38.28125 53.609375 \r\nQ 42.625 51.21875 45.40625 46.390625 \r\nL 45.40625 54.6875 \r\nL 54.390625 54.6875 \r\nz\r\n\" id=\"DejaVuSans-103\"/>\r\n      <path d=\"M 64.40625 67.28125 \r\nL 64.40625 56.890625 \r\nQ 59.421875 61.53125 53.78125 63.8125 \r\nQ 48.140625 66.109375 41.796875 66.109375 \r\nQ 29.296875 66.109375 22.65625 58.46875 \r\nQ 16.015625 50.828125 16.015625 36.375 \r\nQ 16.015625 21.96875 22.65625 14.328125 \r\nQ 29.296875 6.6875 41.796875 6.6875 \r\nQ 48.140625 6.6875 53.78125 8.984375 \r\nQ 59.421875 11.28125 64.40625 15.921875 \r\nL 64.40625 5.609375 \r\nQ 59.234375 2.09375 53.4375 0.328125 \r\nQ 47.65625 -1.421875 41.21875 -1.421875 \r\nQ 24.65625 -1.421875 15.125 8.703125 \r\nQ 5.609375 18.84375 5.609375 36.375 \r\nQ 5.609375 53.953125 15.125 64.078125 \r\nQ 24.65625 74.21875 41.21875 74.21875 \r\nQ 47.75 74.21875 53.53125 72.484375 \r\nQ 59.328125 70.75 64.40625 67.28125 \r\nz\r\n\" id=\"DejaVuSans-67\"/>\r\n      <path d=\"M 54.890625 33.015625 \r\nL 54.890625 0 \r\nL 45.90625 0 \r\nL 45.90625 32.71875 \r\nQ 45.90625 40.484375 42.875 44.328125 \r\nQ 39.84375 48.1875 33.796875 48.1875 \r\nQ 26.515625 48.1875 22.3125 43.546875 \r\nQ 18.109375 38.921875 18.109375 30.90625 \r\nL 18.109375 0 \r\nL 9.078125 0 \r\nL 9.078125 75.984375 \r\nL 18.109375 75.984375 \r\nL 18.109375 46.1875 \r\nQ 21.34375 51.125 25.703125 53.5625 \r\nQ 30.078125 56 35.796875 56 \r\nQ 45.21875 56 50.046875 50.171875 \r\nQ 54.890625 44.34375 54.890625 33.015625 \r\nz\r\n\" id=\"DejaVuSans-104\"/>\r\n     </defs>\r\n     <use xlink:href=\"#DejaVuSans-82\"/>\r\n     <use x=\"64.982422\" xlink:href=\"#DejaVuSans-101\"/>\r\n     <use x=\"126.505859\" xlink:href=\"#DejaVuSans-99\"/>\r\n     <use x=\"181.486328\" xlink:href=\"#DejaVuSans-101\"/>\r\n     <use x=\"243.009766\" xlink:href=\"#DejaVuSans-105\"/>\r\n     <use x=\"270.792969\" xlink:href=\"#DejaVuSans-118\"/>\r\n     <use x=\"329.972656\" xlink:href=\"#DejaVuSans-101\"/>\r\n     <use x=\"391.496094\" xlink:href=\"#DejaVuSans-114\"/>\r\n     <use x=\"432.609375\" xlink:href=\"#DejaVuSans-32\"/>\r\n     <use x=\"464.396484\" xlink:href=\"#DejaVuSans-79\"/>\r\n     <use x=\"543.107422\" xlink:href=\"#DejaVuSans-112\"/>\r\n     <use x=\"606.583984\" xlink:href=\"#DejaVuSans-101\"/>\r\n     <use x=\"668.107422\" xlink:href=\"#DejaVuSans-114\"/>\r\n     <use x=\"709.220703\" xlink:href=\"#DejaVuSans-97\"/>\r\n     <use x=\"770.5\" xlink:href=\"#DejaVuSans-116\"/>\r\n     <use x=\"809.708984\" xlink:href=\"#DejaVuSans-105\"/>\r\n     <use x=\"837.492188\" xlink:href=\"#DejaVuSans-110\"/>\r\n     <use x=\"900.871094\" xlink:href=\"#DejaVuSans-103\"/>\r\n     <use x=\"964.347656\" xlink:href=\"#DejaVuSans-32\"/>\r\n     <use x=\"996.134766\" xlink:href=\"#DejaVuSans-67\"/>\r\n     <use x=\"1065.958984\" xlink:href=\"#DejaVuSans-104\"/>\r\n     <use x=\"1129.337891\" xlink:href=\"#DejaVuSans-97\"/>\r\n     <use x=\"1190.617188\" xlink:href=\"#DejaVuSans-114\"/>\r\n     <use x=\"1231.730469\" xlink:href=\"#DejaVuSans-97\"/>\r\n     <use x=\"1293.009766\" xlink:href=\"#DejaVuSans-99\"/>\r\n     <use x=\"1347.990234\" xlink:href=\"#DejaVuSans-116\"/>\r\n     <use x=\"1387.199219\" xlink:href=\"#DejaVuSans-101\"/>\r\n     <use x=\"1448.722656\" xlink:href=\"#DejaVuSans-114\"/>\r\n     <use x=\"1489.835938\" xlink:href=\"#DejaVuSans-105\"/>\r\n     <use x=\"1517.619141\" xlink:href=\"#DejaVuSans-115\"/>\r\n     <use x=\"1569.71875\" xlink:href=\"#DejaVuSans-116\"/>\r\n     <use x=\"1608.927734\" xlink:href=\"#DejaVuSans-105\"/>\r\n     <use x=\"1636.710938\" xlink:href=\"#DejaVuSans-99\"/>\r\n    </g>\r\n   </g>\r\n   <g id=\"legend_1\">\r\n    <g id=\"patch_7\">\r\n     <path d=\"M 281.4375 234.758125 \r\nL 371.58125 234.758125 \r\nQ 373.58125 234.758125 373.58125 232.758125 \r\nL 373.58125 219.08 \r\nQ 373.58125 217.08 371.58125 217.08 \r\nL 281.4375 217.08 \r\nQ 279.4375 217.08 279.4375 219.08 \r\nL 279.4375 232.758125 \r\nQ 279.4375 234.758125 281.4375 234.758125 \r\nz\r\n\" style=\"fill:#ffffff;opacity:0.8;stroke:#cccccc;stroke-linejoin:miter;\"/>\r\n    </g>\r\n    <g id=\"line2d_15\">\r\n     <path d=\"M 283.4375 225.178437 \r\nL 303.4375 225.178437 \r\n\" style=\"fill:none;stroke:#0000ff;stroke-linecap:square;stroke-width:1.5;\"/>\r\n    </g>\r\n    <g id=\"line2d_16\"/>\r\n    <g id=\"text_16\">\r\n     <!-- AUC = 0.94 -->\r\n     <g transform=\"translate(311.4375 228.678437)scale(0.1 -0.1)\">\r\n      <defs>\r\n       <path d=\"M 34.1875 63.1875 \r\nL 20.796875 26.90625 \r\nL 47.609375 26.90625 \r\nz\r\nM 28.609375 72.90625 \r\nL 39.796875 72.90625 \r\nL 67.578125 0 \r\nL 57.328125 0 \r\nL 50.6875 18.703125 \r\nL 17.828125 18.703125 \r\nL 11.1875 0 \r\nL 0.78125 0 \r\nz\r\n\" id=\"DejaVuSans-65\"/>\r\n       <path d=\"M 8.6875 72.90625 \r\nL 18.609375 72.90625 \r\nL 18.609375 28.609375 \r\nQ 18.609375 16.890625 22.84375 11.734375 \r\nQ 27.09375 6.59375 36.625 6.59375 \r\nQ 46.09375 6.59375 50.34375 11.734375 \r\nQ 54.59375 16.890625 54.59375 28.609375 \r\nL 54.59375 72.90625 \r\nL 64.5 72.90625 \r\nL 64.5 27.390625 \r\nQ 64.5 13.140625 57.4375 5.859375 \r\nQ 50.390625 -1.421875 36.625 -1.421875 \r\nQ 22.796875 -1.421875 15.734375 5.859375 \r\nQ 8.6875 13.140625 8.6875 27.390625 \r\nz\r\n\" id=\"DejaVuSans-85\"/>\r\n       <path d=\"M 10.59375 45.40625 \r\nL 73.1875 45.40625 \r\nL 73.1875 37.203125 \r\nL 10.59375 37.203125 \r\nz\r\nM 10.59375 25.484375 \r\nL 73.1875 25.484375 \r\nL 73.1875 17.1875 \r\nL 10.59375 17.1875 \r\nz\r\n\" id=\"DejaVuSans-61\"/>\r\n       <path d=\"M 10.984375 1.515625 \r\nL 10.984375 10.5 \r\nQ 14.703125 8.734375 18.5 7.8125 \r\nQ 22.3125 6.890625 25.984375 6.890625 \r\nQ 35.75 6.890625 40.890625 13.453125 \r\nQ 46.046875 20.015625 46.78125 33.40625 \r\nQ 43.953125 29.203125 39.59375 26.953125 \r\nQ 35.25 24.703125 29.984375 24.703125 \r\nQ 19.046875 24.703125 12.671875 31.3125 \r\nQ 6.296875 37.9375 6.296875 49.421875 \r\nQ 6.296875 60.640625 12.9375 67.421875 \r\nQ 19.578125 74.21875 30.609375 74.21875 \r\nQ 43.265625 74.21875 49.921875 64.515625 \r\nQ 56.59375 54.828125 56.59375 36.375 \r\nQ 56.59375 19.140625 48.40625 8.859375 \r\nQ 40.234375 -1.421875 26.421875 -1.421875 \r\nQ 22.703125 -1.421875 18.890625 -0.6875 \r\nQ 15.09375 0.046875 10.984375 1.515625 \r\nz\r\nM 30.609375 32.421875 \r\nQ 37.25 32.421875 41.125 36.953125 \r\nQ 45.015625 41.5 45.015625 49.421875 \r\nQ 45.015625 57.28125 41.125 61.84375 \r\nQ 37.25 66.40625 30.609375 66.40625 \r\nQ 23.96875 66.40625 20.09375 61.84375 \r\nQ 16.21875 57.28125 16.21875 49.421875 \r\nQ 16.21875 41.5 20.09375 36.953125 \r\nQ 23.96875 32.421875 30.609375 32.421875 \r\nz\r\n\" id=\"DejaVuSans-57\"/>\r\n      </defs>\r\n      <use xlink:href=\"#DejaVuSans-65\"/>\r\n      <use x=\"68.408203\" xlink:href=\"#DejaVuSans-85\"/>\r\n      <use x=\"141.601562\" xlink:href=\"#DejaVuSans-67\"/>\r\n      <use x=\"211.425781\" xlink:href=\"#DejaVuSans-32\"/>\r\n      <use x=\"243.212891\" xlink:href=\"#DejaVuSans-61\"/>\r\n      <use x=\"327.001953\" xlink:href=\"#DejaVuSans-32\"/>\r\n      <use x=\"358.789062\" xlink:href=\"#DejaVuSans-48\"/>\r\n      <use x=\"422.412109\" xlink:href=\"#DejaVuSans-46\"/>\r\n      <use x=\"454.199219\" xlink:href=\"#DejaVuSans-57\"/>\r\n      <use x=\"517.822266\" xlink:href=\"#DejaVuSans-52\"/>\r\n     </g>\r\n    </g>\r\n   </g>\r\n  </g>\r\n </g>\r\n <defs>\r\n  <clipPath id=\"pcc612bbb59\">\r\n   <rect height=\"217.44\" width=\"334.8\" x=\"43.78125\" y=\"22.318125\"/>\r\n  </clipPath>\r\n </defs>\r\n</svg>\r\n",
      "image/png": "[encoded data removed]"
     },
     "metadata": {
      "needs_background": "light"
     }
    }
   ],
   "source": [
    "def calc_plot_roc(model, X_test, y_test):\n",
    "    y_pred = model.predict(X_test).flatten()\n",
    "    fpr, tpr, _ = roc_curve(y_test, y_pred)\n",
    "    auc = roc_auc_score(y_test, y_pred)\n",
    "\n",
    "    plt.title('Receiver Operating Characteristic')\n",
    "    plt.plot(fpr, tpr, 'b', label = \"AUC = %0.2f\"%auc)\n",
    "    plt.legend(loc = 'lower right')\n",
    "    plt.plot([0, 1], [0, 1],'r--')\n",
    "    plt.xlim([0, 1])\n",
    "    plt.ylim([0, 1])\n",
    "    plt.ylabel('True Positive Rate')\n",
    "    plt.xlabel('False Positive Rate')\n",
    "    plt.show()\n",
    "\n",
    "calc_plot_roc(model, X_test, y_test)"
   ]
  }
 ]
}